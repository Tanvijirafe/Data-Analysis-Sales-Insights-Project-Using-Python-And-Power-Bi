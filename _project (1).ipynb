{
 "cells": [
  {
   "cell_type": "code",
   "execution_count": null,
   "id": "68f0b695-805a-4e60-96f0-ccddeecc7d16",
   "metadata": {},
   "outputs": [],
   "source": [
    "import numpy as np\n",
    "import pandas as pd\n",
    "import matplotlib.pyplot as plt\n",
    "import seaborn as sns\n",
    "\n",
    "%matplotlib inline\n",
    "\n"
   ]
  },
  {
   "cell_type": "code",
   "execution_count": 2,
   "id": "7169596f-628a-41f1-a23e-d6fe97576de1",
   "metadata": {},
   "outputs": [],
   "source": [
    "pd.options.display.float_format = \"{:.2f}\".format"
   ]
  },
  {
   "cell_type": "markdown",
   "id": "6310193c-3b44-4d56-82bc-dbdf4a3182e8",
   "metadata": {},
   "source": [
    "# Get The Data And Showing The Tables"
   ]
  },
  {
   "cell_type": "code",
   "execution_count": 7,
   "id": "378ad5f7-b052-4e19-981d-031f22af6fa9",
   "metadata": {},
   "outputs": [],
   "source": [
    "transactions = pd.read_csv('https://raw.githubusercontent.com/tuhinhussain1995/PROJECT-Data-Analysis-Sales-Insights-PowerBI/refs/heads/master/transactions.csv')"
   ]
  },
  {
   "cell_type": "code",
   "execution_count": 10,
   "id": "e0c2d829-cf65-4b45-8641-5e58843520a3",
   "metadata": {},
   "outputs": [
    {
     "data": {
      "text/html": [
       "<div>\n",
       "<style scoped>\n",
       "    .dataframe tbody tr th:only-of-type {\n",
       "        vertical-align: middle;\n",
       "    }\n",
       "\n",
       "    .dataframe tbody tr th {\n",
       "        vertical-align: top;\n",
       "    }\n",
       "\n",
       "    .dataframe thead th {\n",
       "        text-align: right;\n",
       "    }\n",
       "</style>\n",
       "<table border=\"1\" class=\"dataframe\">\n",
       "  <thead>\n",
       "    <tr style=\"text-align: right;\">\n",
       "      <th></th>\n",
       "      <th>product_code</th>\n",
       "      <th>customer_code</th>\n",
       "      <th>market_code</th>\n",
       "      <th>order_date</th>\n",
       "      <th>sales_qty</th>\n",
       "      <th>sales_amount</th>\n",
       "      <th>currency</th>\n",
       "    </tr>\n",
       "  </thead>\n",
       "  <tbody>\n",
       "    <tr>\n",
       "      <th>0</th>\n",
       "      <td>Prod001</td>\n",
       "      <td>Cus001</td>\n",
       "      <td>Mark001</td>\n",
       "      <td>2017-10-10</td>\n",
       "      <td>100</td>\n",
       "      <td>41241.00</td>\n",
       "      <td>INR</td>\n",
       "    </tr>\n",
       "    <tr>\n",
       "      <th>1</th>\n",
       "      <td>Prod001</td>\n",
       "      <td>Cus002</td>\n",
       "      <td>Mark002</td>\n",
       "      <td>2018-05-08</td>\n",
       "      <td>3</td>\n",
       "      <td>-1.00</td>\n",
       "      <td>INR</td>\n",
       "    </tr>\n",
       "    <tr>\n",
       "      <th>2</th>\n",
       "      <td>Prod002</td>\n",
       "      <td>Cus003</td>\n",
       "      <td>Mark003</td>\n",
       "      <td>2018-04-06</td>\n",
       "      <td>1</td>\n",
       "      <td>875.00</td>\n",
       "      <td>INR</td>\n",
       "    </tr>\n",
       "    <tr>\n",
       "      <th>3</th>\n",
       "      <td>Prod002</td>\n",
       "      <td>Cus003</td>\n",
       "      <td>Mark003</td>\n",
       "      <td>2018-04-11</td>\n",
       "      <td>1</td>\n",
       "      <td>583.00</td>\n",
       "      <td>INR</td>\n",
       "    </tr>\n",
       "    <tr>\n",
       "      <th>4</th>\n",
       "      <td>Prod002</td>\n",
       "      <td>Cus004</td>\n",
       "      <td>Mark003</td>\n",
       "      <td>2018-06-18</td>\n",
       "      <td>6</td>\n",
       "      <td>7176.00</td>\n",
       "      <td>INR</td>\n",
       "    </tr>\n",
       "  </tbody>\n",
       "</table>\n",
       "</div>"
      ],
      "text/plain": [
       "  product_code customer_code market_code  order_date  sales_qty  sales_amount  \\\n",
       "0      Prod001        Cus001     Mark001  2017-10-10        100      41241.00   \n",
       "1      Prod001        Cus002     Mark002  2018-05-08          3         -1.00   \n",
       "2      Prod002        Cus003     Mark003  2018-04-06          1        875.00   \n",
       "3      Prod002        Cus003     Mark003  2018-04-11          1        583.00   \n",
       "4      Prod002        Cus004     Mark003  2018-06-18          6       7176.00   \n",
       "\n",
       "  currency  \n",
       "0      INR  \n",
       "1      INR  \n",
       "2      INR  \n",
       "3      INR  \n",
       "4      INR  "
      ]
     },
     "execution_count": 10,
     "metadata": {},
     "output_type": "execute_result"
    }
   ],
   "source": [
    "transactions.head(5)"
   ]
  },
  {
   "cell_type": "code",
   "execution_count": 11,
   "id": "564982d5-7c2f-493d-addd-3ebb1e2f8734",
   "metadata": {},
   "outputs": [],
   "source": [
    "products = pd.read_csv('https://raw.githubusercontent.com/tuhinhussain1995/PROJECT-Data-Analysis-Sales-Insights-PowerBI/refs/heads/master/products.csv')"
   ]
  },
  {
   "cell_type": "code",
   "execution_count": 12,
   "id": "714d5773-9e07-405b-b09c-3e363f2ba245",
   "metadata": {},
   "outputs": [
    {
     "data": {
      "text/html": [
       "<div>\n",
       "<style scoped>\n",
       "    .dataframe tbody tr th:only-of-type {\n",
       "        vertical-align: middle;\n",
       "    }\n",
       "\n",
       "    .dataframe tbody tr th {\n",
       "        vertical-align: top;\n",
       "    }\n",
       "\n",
       "    .dataframe thead th {\n",
       "        text-align: right;\n",
       "    }\n",
       "</style>\n",
       "<table border=\"1\" class=\"dataframe\">\n",
       "  <thead>\n",
       "    <tr style=\"text-align: right;\">\n",
       "      <th></th>\n",
       "      <th>product_code</th>\n",
       "      <th>product_type</th>\n",
       "    </tr>\n",
       "  </thead>\n",
       "  <tbody>\n",
       "    <tr>\n",
       "      <th>261</th>\n",
       "      <td>Prod262</td>\n",
       "      <td>Own Brand</td>\n",
       "    </tr>\n",
       "    <tr>\n",
       "      <th>100</th>\n",
       "      <td>Prod101</td>\n",
       "      <td>Own Brand</td>\n",
       "    </tr>\n",
       "    <tr>\n",
       "      <th>8</th>\n",
       "      <td>Prod009</td>\n",
       "      <td>Own Brand</td>\n",
       "    </tr>\n",
       "    <tr>\n",
       "      <th>271</th>\n",
       "      <td>Prod272</td>\n",
       "      <td>Own Brand</td>\n",
       "    </tr>\n",
       "    <tr>\n",
       "      <th>263</th>\n",
       "      <td>Prod264</td>\n",
       "      <td>Distribution</td>\n",
       "    </tr>\n",
       "  </tbody>\n",
       "</table>\n",
       "</div>"
      ],
      "text/plain": [
       "    product_code  product_type\n",
       "261      Prod262     Own Brand\n",
       "100      Prod101     Own Brand\n",
       "8        Prod009     Own Brand\n",
       "271      Prod272     Own Brand\n",
       "263      Prod264  Distribution"
      ]
     },
     "execution_count": 12,
     "metadata": {},
     "output_type": "execute_result"
    }
   ],
   "source": [
    "products.sample(5)"
   ]
  },
  {
   "cell_type": "code",
   "execution_count": 13,
   "id": "00ce57ce-5ed7-4aef-a5a1-73f00b5691d8",
   "metadata": {},
   "outputs": [],
   "source": [
    "markets = pd.read_csv('https://raw.githubusercontent.com/tuhinhussain1995/PROJECT-Data-Analysis-Sales-Insights-PowerBI/refs/heads/master/markets.csv')"
   ]
  },
  {
   "cell_type": "code",
   "execution_count": 14,
   "id": "52f1be53-7efb-491c-be47-4489eb265dd8",
   "metadata": {},
   "outputs": [
    {
     "data": {
      "text/html": [
       "<div>\n",
       "<style scoped>\n",
       "    .dataframe tbody tr th:only-of-type {\n",
       "        vertical-align: middle;\n",
       "    }\n",
       "\n",
       "    .dataframe tbody tr th {\n",
       "        vertical-align: top;\n",
       "    }\n",
       "\n",
       "    .dataframe thead th {\n",
       "        text-align: right;\n",
       "    }\n",
       "</style>\n",
       "<table border=\"1\" class=\"dataframe\">\n",
       "  <thead>\n",
       "    <tr style=\"text-align: right;\">\n",
       "      <th></th>\n",
       "      <th>markets_code</th>\n",
       "      <th>markets_name</th>\n",
       "      <th>zone</th>\n",
       "    </tr>\n",
       "  </thead>\n",
       "  <tbody>\n",
       "    <tr>\n",
       "      <th>13</th>\n",
       "      <td>Mark014</td>\n",
       "      <td>Hyderabad</td>\n",
       "      <td>South</td>\n",
       "    </tr>\n",
       "    <tr>\n",
       "      <th>9</th>\n",
       "      <td>Mark010</td>\n",
       "      <td>Kochi</td>\n",
       "      <td>South</td>\n",
       "    </tr>\n",
       "    <tr>\n",
       "      <th>7</th>\n",
       "      <td>Mark008</td>\n",
       "      <td>Lucknow</td>\n",
       "      <td>North</td>\n",
       "    </tr>\n",
       "    <tr>\n",
       "      <th>6</th>\n",
       "      <td>Mark007</td>\n",
       "      <td>Bhopal</td>\n",
       "      <td>Central</td>\n",
       "    </tr>\n",
       "    <tr>\n",
       "      <th>1</th>\n",
       "      <td>Mark002</td>\n",
       "      <td>Mumbai</td>\n",
       "      <td>Central</td>\n",
       "    </tr>\n",
       "  </tbody>\n",
       "</table>\n",
       "</div>"
      ],
      "text/plain": [
       "   markets_code markets_name     zone\n",
       "13      Mark014    Hyderabad    South\n",
       "9       Mark010        Kochi    South\n",
       "7       Mark008      Lucknow    North\n",
       "6       Mark007       Bhopal  Central\n",
       "1       Mark002       Mumbai  Central"
      ]
     },
     "execution_count": 14,
     "metadata": {},
     "output_type": "execute_result"
    }
   ],
   "source": [
    "markets.sample(5)"
   ]
  },
  {
   "cell_type": "code",
   "execution_count": 15,
   "id": "5ec6bdda-5c83-4904-a749-52a2a3936d40",
   "metadata": {},
   "outputs": [],
   "source": [
    "customers = pd.read_csv('https://raw.githubusercontent.com/tuhinhussain1995/PROJECT-Data-Analysis-Sales-Insights-PowerBI/refs/heads/master/customers.csv')"
   ]
  },
  {
   "cell_type": "code",
   "execution_count": 16,
   "id": "d26412ab-1d70-42a9-b9e5-c8db3b033e65",
   "metadata": {},
   "outputs": [
    {
     "data": {
      "text/html": [
       "<div>\n",
       "<style scoped>\n",
       "    .dataframe tbody tr th:only-of-type {\n",
       "        vertical-align: middle;\n",
       "    }\n",
       "\n",
       "    .dataframe tbody tr th {\n",
       "        vertical-align: top;\n",
       "    }\n",
       "\n",
       "    .dataframe thead th {\n",
       "        text-align: right;\n",
       "    }\n",
       "</style>\n",
       "<table border=\"1\" class=\"dataframe\">\n",
       "  <thead>\n",
       "    <tr style=\"text-align: right;\">\n",
       "      <th></th>\n",
       "      <th>customer_code</th>\n",
       "      <th>custmer_name</th>\n",
       "      <th>customer_type</th>\n",
       "    </tr>\n",
       "  </thead>\n",
       "  <tbody>\n",
       "    <tr>\n",
       "      <th>23</th>\n",
       "      <td>Cus024</td>\n",
       "      <td>Power</td>\n",
       "      <td>E-Commerce</td>\n",
       "    </tr>\n",
       "    <tr>\n",
       "      <th>27</th>\n",
       "      <td>Cus028</td>\n",
       "      <td>Sage</td>\n",
       "      <td>E-Commerce</td>\n",
       "    </tr>\n",
       "    <tr>\n",
       "      <th>12</th>\n",
       "      <td>Cus013</td>\n",
       "      <td>Unity Stores</td>\n",
       "      <td>Brick &amp; Mortar</td>\n",
       "    </tr>\n",
       "    <tr>\n",
       "      <th>28</th>\n",
       "      <td>Cus029</td>\n",
       "      <td>Electricalsocity</td>\n",
       "      <td>E-Commerce</td>\n",
       "    </tr>\n",
       "    <tr>\n",
       "      <th>9</th>\n",
       "      <td>Cus010</td>\n",
       "      <td>Atlas Stores</td>\n",
       "      <td>Brick &amp; Mortar</td>\n",
       "    </tr>\n",
       "  </tbody>\n",
       "</table>\n",
       "</div>"
      ],
      "text/plain": [
       "   customer_code      custmer_name   customer_type\n",
       "23        Cus024             Power      E-Commerce\n",
       "27        Cus028              Sage      E-Commerce\n",
       "12        Cus013      Unity Stores  Brick & Mortar\n",
       "28        Cus029  Electricalsocity      E-Commerce\n",
       "9         Cus010      Atlas Stores  Brick & Mortar"
      ]
     },
     "execution_count": 16,
     "metadata": {},
     "output_type": "execute_result"
    }
   ],
   "source": [
    "customers.sample(5)"
   ]
  },
  {
   "cell_type": "code",
   "execution_count": 20,
   "id": "9bae70f3-cef0-422d-9c24-a47b7e8aa55e",
   "metadata": {},
   "outputs": [],
   "source": [
    "date = pd.read_csv('https://raw.githubusercontent.com/tuhinhussain1995/PROJECT-Data-Analysis-Sales-Insights-PowerBI/refs/heads/master/date.csv')\n"
   ]
  },
  {
   "cell_type": "code",
   "execution_count": 21,
   "id": "04cf6517-7c36-4b86-8091-2f2cb58ba307",
   "metadata": {},
   "outputs": [
    {
     "data": {
      "text/html": [
       "<div>\n",
       "<style scoped>\n",
       "    .dataframe tbody tr th:only-of-type {\n",
       "        vertical-align: middle;\n",
       "    }\n",
       "\n",
       "    .dataframe tbody tr th {\n",
       "        vertical-align: top;\n",
       "    }\n",
       "\n",
       "    .dataframe thead th {\n",
       "        text-align: right;\n",
       "    }\n",
       "</style>\n",
       "<table border=\"1\" class=\"dataframe\">\n",
       "  <thead>\n",
       "    <tr style=\"text-align: right;\">\n",
       "      <th></th>\n",
       "      <th>date</th>\n",
       "      <th>cy_date</th>\n",
       "      <th>year</th>\n",
       "      <th>month_name</th>\n",
       "      <th>date_yy_mmm</th>\n",
       "    </tr>\n",
       "  </thead>\n",
       "  <tbody>\n",
       "    <tr>\n",
       "      <th>1022</th>\n",
       "      <td>2020-03-19</td>\n",
       "      <td>2020-03-01</td>\n",
       "      <td>2020</td>\n",
       "      <td>March</td>\n",
       "      <td>20-Mar</td>\n",
       "    </tr>\n",
       "    <tr>\n",
       "      <th>43</th>\n",
       "      <td>2017-07-14</td>\n",
       "      <td>2017-07-01</td>\n",
       "      <td>2017</td>\n",
       "      <td>July</td>\n",
       "      <td>17-Jul</td>\n",
       "    </tr>\n",
       "    <tr>\n",
       "      <th>711</th>\n",
       "      <td>2019-05-13</td>\n",
       "      <td>2019-05-01</td>\n",
       "      <td>2019</td>\n",
       "      <td>May</td>\n",
       "      <td>19-May</td>\n",
       "    </tr>\n",
       "    <tr>\n",
       "      <th>793</th>\n",
       "      <td>2019-08-03</td>\n",
       "      <td>2019-08-01</td>\n",
       "      <td>2019</td>\n",
       "      <td>August</td>\n",
       "      <td>19-Aug</td>\n",
       "    </tr>\n",
       "    <tr>\n",
       "      <th>468</th>\n",
       "      <td>2018-09-12</td>\n",
       "      <td>2018-09-01</td>\n",
       "      <td>2018</td>\n",
       "      <td>September</td>\n",
       "      <td>18-Sep</td>\n",
       "    </tr>\n",
       "  </tbody>\n",
       "</table>\n",
       "</div>"
      ],
      "text/plain": [
       "            date     cy_date  year month_name date_yy_mmm\n",
       "1022  2020-03-19  2020-03-01  2020      March      20-Mar\n",
       "43    2017-07-14  2017-07-01  2017       July      17-Jul\n",
       "711   2019-05-13  2019-05-01  2019        May      19-May\n",
       "793   2019-08-03  2019-08-01  2019     August      19-Aug\n",
       "468   2018-09-12  2018-09-01  2018  September      18-Sep"
      ]
     },
     "execution_count": 21,
     "metadata": {},
     "output_type": "execute_result"
    }
   ],
   "source": [
    "date.sample(5)"
   ]
  },
  {
   "cell_type": "markdown",
   "id": "94b0bb6d-7ed7-4ca9-9975-4f3dac796daa",
   "metadata": {},
   "source": [
    "# Transactions"
   ]
  },
  {
   "cell_type": "code",
   "execution_count": 22,
   "id": "7daec427-4bfc-4e0d-bea8-631b1b4e5b9b",
   "metadata": {},
   "outputs": [
    {
     "data": {
      "text/plain": [
       "product_code      object\n",
       "customer_code     object\n",
       "market_code       object\n",
       "order_date        object\n",
       "sales_qty          int64\n",
       "sales_amount     float64\n",
       "currency          object\n",
       "dtype: object"
      ]
     },
     "execution_count": 22,
     "metadata": {},
     "output_type": "execute_result"
    }
   ],
   "source": [
    "transactions.dtypes"
   ]
  },
  {
   "cell_type": "markdown",
   "id": "adce1477-aa61-4654-9f43-0e7c300621c3",
   "metadata": {},
   "source": [
    "# Check Null Values"
   ]
  },
  {
   "cell_type": "code",
   "execution_count": 23,
   "id": "0ea82a0c-d803-4e44-8dde-bb2e6629dbee",
   "metadata": {},
   "outputs": [
    {
     "data": {
      "text/plain": [
       "product_code     0\n",
       "customer_code    0\n",
       "market_code      0\n",
       "order_date       0\n",
       "sales_qty        0\n",
       "sales_amount     0\n",
       "currency         0\n",
       "dtype: int64"
      ]
     },
     "execution_count": 23,
     "metadata": {},
     "output_type": "execute_result"
    }
   ],
   "source": [
    "transactions.isnull().sum()"
   ]
  },
  {
   "cell_type": "markdown",
   "id": "beebdccf-7771-400c-b754-12bc582e3d00",
   "metadata": {},
   "source": [
    "# Sales_amount below 1"
   ]
  },
  {
   "cell_type": "code",
   "execution_count": 24,
   "id": "1a04f5a0-9f12-4894-9341-f228091b1e43",
   "metadata": {},
   "outputs": [
    {
     "data": {
      "text/html": [
       "<div>\n",
       "<style scoped>\n",
       "    .dataframe tbody tr th:only-of-type {\n",
       "        vertical-align: middle;\n",
       "    }\n",
       "\n",
       "    .dataframe tbody tr th {\n",
       "        vertical-align: top;\n",
       "    }\n",
       "\n",
       "    .dataframe thead th {\n",
       "        text-align: right;\n",
       "    }\n",
       "</style>\n",
       "<table border=\"1\" class=\"dataframe\">\n",
       "  <thead>\n",
       "    <tr style=\"text-align: right;\">\n",
       "      <th></th>\n",
       "      <th>product_code</th>\n",
       "      <th>customer_code</th>\n",
       "      <th>market_code</th>\n",
       "      <th>order_date</th>\n",
       "      <th>sales_qty</th>\n",
       "      <th>sales_amount</th>\n",
       "      <th>currency</th>\n",
       "    </tr>\n",
       "  </thead>\n",
       "  <tbody>\n",
       "    <tr>\n",
       "      <th>132556</th>\n",
       "      <td>Prod312</td>\n",
       "      <td>Cus003</td>\n",
       "      <td>Mark006</td>\n",
       "      <td>2017-12-19</td>\n",
       "      <td>1</td>\n",
       "      <td>0.00</td>\n",
       "      <td>INR</td>\n",
       "    </tr>\n",
       "    <tr>\n",
       "      <th>108127</th>\n",
       "      <td>Prod290</td>\n",
       "      <td>Cus029</td>\n",
       "      <td>Mark011</td>\n",
       "      <td>2018-12-11</td>\n",
       "      <td>1</td>\n",
       "      <td>0.00</td>\n",
       "      <td>INR</td>\n",
       "    </tr>\n",
       "    <tr>\n",
       "      <th>8419</th>\n",
       "      <td>Prod053</td>\n",
       "      <td>Cus017</td>\n",
       "      <td>Mark011</td>\n",
       "      <td>2019-04-05</td>\n",
       "      <td>6</td>\n",
       "      <td>0.00</td>\n",
       "      <td>INR</td>\n",
       "    </tr>\n",
       "  </tbody>\n",
       "</table>\n",
       "</div>"
      ],
      "text/plain": [
       "       product_code customer_code market_code  order_date  sales_qty  \\\n",
       "132556      Prod312        Cus003     Mark006  2017-12-19          1   \n",
       "108127      Prod290        Cus029     Mark011  2018-12-11          1   \n",
       "8419        Prod053        Cus017     Mark011  2019-04-05          6   \n",
       "\n",
       "        sales_amount currency  \n",
       "132556          0.00      INR  \n",
       "108127          0.00      INR  \n",
       "8419            0.00      INR  "
      ]
     },
     "execution_count": 24,
     "metadata": {},
     "output_type": "execute_result"
    }
   ],
   "source": [
    "transactions[transactions['sales_amount'] <= 0].sample(3)"
   ]
  },
  {
   "cell_type": "code",
   "execution_count": 25,
   "id": "00e68d14-2c1d-428f-8edb-80222870eff1",
   "metadata": {},
   "outputs": [
    {
     "data": {
      "text/plain": [
       "1611"
      ]
     },
     "execution_count": 25,
     "metadata": {},
     "output_type": "execute_result"
    }
   ],
   "source": [
    "len(transactions[transactions['sales_amount'] <= 0])"
   ]
  },
  {
   "cell_type": "code",
   "execution_count": 26,
   "id": "1968388d-ffff-4e43-8c2f-5443b0746e24",
   "metadata": {},
   "outputs": [
    {
     "data": {
      "text/plain": [
       "(150283, 7)"
      ]
     },
     "execution_count": 26,
     "metadata": {},
     "output_type": "execute_result"
    }
   ],
   "source": [
    "transactions.shape"
   ]
  },
  {
   "cell_type": "code",
   "execution_count": 27,
   "id": "0c7c03d3-aba7-41e8-9215-dfbe7045046f",
   "metadata": {},
   "outputs": [],
   "source": [
    "transactions.drop(transactions[transactions['sales_amount'] <= 0].index, inplace=True)\n"
   ]
  },
  {
   "cell_type": "markdown",
   "id": "8d13bfe4-be09-45a0-bac7-db58844273e5",
   "metadata": {},
   "source": [
    "# USD TO INR Conversion"
   ]
  },
  {
   "cell_type": "code",
   "execution_count": 31,
   "id": "7948a9b5-5c6c-4b4c-b91b-60c5f492c8f4",
   "metadata": {},
   "outputs": [
    {
     "data": {
      "text/plain": [
       "array(['INR', 'USD'], dtype=object)"
      ]
     },
     "execution_count": 31,
     "metadata": {},
     "output_type": "execute_result"
    }
   ],
   "source": [
    "transactions['currency'].unique()"
   ]
  },
  {
   "cell_type": "code",
   "execution_count": 30,
   "id": "80782008-7e29-498b-a952-a54179fd16bb",
   "metadata": {},
   "outputs": [
    {
     "data": {
      "text/html": [
       "<div>\n",
       "<style scoped>\n",
       "    .dataframe tbody tr th:only-of-type {\n",
       "        vertical-align: middle;\n",
       "    }\n",
       "\n",
       "    .dataframe tbody tr th {\n",
       "        vertical-align: top;\n",
       "    }\n",
       "\n",
       "    .dataframe thead th {\n",
       "        text-align: right;\n",
       "    }\n",
       "</style>\n",
       "<table border=\"1\" class=\"dataframe\">\n",
       "  <thead>\n",
       "    <tr style=\"text-align: right;\">\n",
       "      <th></th>\n",
       "      <th>product_code</th>\n",
       "      <th>customer_code</th>\n",
       "      <th>market_code</th>\n",
       "      <th>order_date</th>\n",
       "      <th>sales_qty</th>\n",
       "      <th>sales_amount</th>\n",
       "      <th>currency</th>\n",
       "    </tr>\n",
       "  </thead>\n",
       "  <tbody>\n",
       "    <tr>\n",
       "      <th>5</th>\n",
       "      <td>Prod003</td>\n",
       "      <td>Cus005</td>\n",
       "      <td>Mark004</td>\n",
       "      <td>2017-11-20</td>\n",
       "      <td>59</td>\n",
       "      <td>500.00</td>\n",
       "      <td>USD</td>\n",
       "    </tr>\n",
       "    <tr>\n",
       "      <th>6</th>\n",
       "      <td>Prod003</td>\n",
       "      <td>Cus005</td>\n",
       "      <td>Mark004</td>\n",
       "      <td>2017-11-22</td>\n",
       "      <td>36</td>\n",
       "      <td>250.00</td>\n",
       "      <td>USD</td>\n",
       "    </tr>\n",
       "    <tr>\n",
       "      <th>286</th>\n",
       "      <td>Prod003</td>\n",
       "      <td>Cus005</td>\n",
       "      <td>Mark004</td>\n",
       "      <td>2017-11-20</td>\n",
       "      <td>59</td>\n",
       "      <td>500.00</td>\n",
       "      <td>USD</td>\n",
       "    </tr>\n",
       "    <tr>\n",
       "      <th>287</th>\n",
       "      <td>Prod003</td>\n",
       "      <td>Cus005</td>\n",
       "      <td>Mark004</td>\n",
       "      <td>2017-11-22</td>\n",
       "      <td>36</td>\n",
       "      <td>250.00</td>\n",
       "      <td>USD</td>\n",
       "    </tr>\n",
       "  </tbody>\n",
       "</table>\n",
       "</div>"
      ],
      "text/plain": [
       "    product_code customer_code market_code  order_date  sales_qty  \\\n",
       "5        Prod003        Cus005     Mark004  2017-11-20         59   \n",
       "6        Prod003        Cus005     Mark004  2017-11-22         36   \n",
       "286      Prod003        Cus005     Mark004  2017-11-20         59   \n",
       "287      Prod003        Cus005     Mark004  2017-11-22         36   \n",
       "\n",
       "     sales_amount currency  \n",
       "5          500.00      USD  \n",
       "6          250.00      USD  \n",
       "286        500.00      USD  \n",
       "287        250.00      USD  "
      ]
     },
     "execution_count": 30,
     "metadata": {},
     "output_type": "execute_result"
    }
   ],
   "source": [
    "transactions[transactions['currency'] == 'USD']"
   ]
  },
  {
   "cell_type": "code",
   "execution_count": 32,
   "id": "736df144-9967-4573-939c-fa99e236d890",
   "metadata": {},
   "outputs": [
    {
     "data": {
      "text/plain": [
       "5     500.00\n",
       "6     250.00\n",
       "286   500.00\n",
       "287   250.00\n",
       "Name: sales_amount, dtype: float64"
      ]
     },
     "execution_count": 32,
     "metadata": {},
     "output_type": "execute_result"
    }
   ],
   "source": [
    "transactions[transactions['currency'] == 'USD']['sales_amount']"
   ]
  },
  {
   "cell_type": "code",
   "execution_count": 33,
   "id": "cc61512c-10cc-4f4d-854e-930028029afc",
   "metadata": {},
   "outputs": [],
   "source": [
    "val = transactions[transactions['currency'] == 'USD'].index"
   ]
  },
  {
   "cell_type": "code",
   "execution_count": 34,
   "id": "fd5262d7-1e77-4ed1-abce-0ae79be7c8f7",
   "metadata": {},
   "outputs": [
    {
     "data": {
      "text/plain": [
       "Index([5, 6, 286, 287], dtype='int64')"
      ]
     },
     "execution_count": 34,
     "metadata": {},
     "output_type": "execute_result"
    }
   ],
   "source": [
    "val"
   ]
  },
  {
   "cell_type": "code",
   "execution_count": 35,
   "id": "1694f661-baaf-4080-a0ea-e889c6c549fa",
   "metadata": {},
   "outputs": [],
   "source": [
    "for x in val:\n",
    "    transactions.at[x,'sales_amount'] = transactions.at[x,'sales_amount']*75\n",
    "    transactions.at[x,'currency'] = 'INR'"
   ]
  },
  {
   "cell_type": "code",
   "execution_count": 36,
   "id": "cf73e879-e9ba-40d7-b792-00225295af47",
   "metadata": {},
   "outputs": [
    {
     "data": {
      "text/html": [
       "<div>\n",
       "<style scoped>\n",
       "    .dataframe tbody tr th:only-of-type {\n",
       "        vertical-align: middle;\n",
       "    }\n",
       "\n",
       "    .dataframe tbody tr th {\n",
       "        vertical-align: top;\n",
       "    }\n",
       "\n",
       "    .dataframe thead th {\n",
       "        text-align: right;\n",
       "    }\n",
       "</style>\n",
       "<table border=\"1\" class=\"dataframe\">\n",
       "  <thead>\n",
       "    <tr style=\"text-align: right;\">\n",
       "      <th></th>\n",
       "      <th>product_code</th>\n",
       "      <th>customer_code</th>\n",
       "      <th>market_code</th>\n",
       "      <th>order_date</th>\n",
       "      <th>sales_qty</th>\n",
       "      <th>sales_amount</th>\n",
       "      <th>currency</th>\n",
       "    </tr>\n",
       "  </thead>\n",
       "  <tbody>\n",
       "    <tr>\n",
       "      <th>5</th>\n",
       "      <td>Prod003</td>\n",
       "      <td>Cus005</td>\n",
       "      <td>Mark004</td>\n",
       "      <td>2017-11-20</td>\n",
       "      <td>59</td>\n",
       "      <td>37500.00</td>\n",
       "      <td>INR</td>\n",
       "    </tr>\n",
       "    <tr>\n",
       "      <th>6</th>\n",
       "      <td>Prod003</td>\n",
       "      <td>Cus005</td>\n",
       "      <td>Mark004</td>\n",
       "      <td>2017-11-22</td>\n",
       "      <td>36</td>\n",
       "      <td>18750.00</td>\n",
       "      <td>INR</td>\n",
       "    </tr>\n",
       "    <tr>\n",
       "      <th>286</th>\n",
       "      <td>Prod003</td>\n",
       "      <td>Cus005</td>\n",
       "      <td>Mark004</td>\n",
       "      <td>2017-11-20</td>\n",
       "      <td>59</td>\n",
       "      <td>37500.00</td>\n",
       "      <td>INR</td>\n",
       "    </tr>\n",
       "    <tr>\n",
       "      <th>287</th>\n",
       "      <td>Prod003</td>\n",
       "      <td>Cus005</td>\n",
       "      <td>Mark004</td>\n",
       "      <td>2017-11-22</td>\n",
       "      <td>36</td>\n",
       "      <td>18750.00</td>\n",
       "      <td>INR</td>\n",
       "    </tr>\n",
       "  </tbody>\n",
       "</table>\n",
       "</div>"
      ],
      "text/plain": [
       "    product_code customer_code market_code  order_date  sales_qty  \\\n",
       "5        Prod003        Cus005     Mark004  2017-11-20         59   \n",
       "6        Prod003        Cus005     Mark004  2017-11-22         36   \n",
       "286      Prod003        Cus005     Mark004  2017-11-20         59   \n",
       "287      Prod003        Cus005     Mark004  2017-11-22         36   \n",
       "\n",
       "     sales_amount currency  \n",
       "5        37500.00      INR  \n",
       "6        18750.00      INR  \n",
       "286      37500.00      INR  \n",
       "287      18750.00      INR  "
      ]
     },
     "execution_count": 36,
     "metadata": {},
     "output_type": "execute_result"
    }
   ],
   "source": [
    "transactions.loc[val]"
   ]
  },
  {
   "cell_type": "code",
   "execution_count": 37,
   "id": "a61164c1-c049-49a7-a1bc-f87e79ddbee0",
   "metadata": {},
   "outputs": [],
   "source": [
    "transactions['product_price'] = transactions['sales_amount'] / transactions['sales_qty']"
   ]
  },
  {
   "cell_type": "code",
   "execution_count": 38,
   "id": "477038e5-970c-45fd-9772-8c057561afa3",
   "metadata": {},
   "outputs": [
    {
     "data": {
      "text/html": [
       "<div>\n",
       "<style scoped>\n",
       "    .dataframe tbody tr th:only-of-type {\n",
       "        vertical-align: middle;\n",
       "    }\n",
       "\n",
       "    .dataframe tbody tr th {\n",
       "        vertical-align: top;\n",
       "    }\n",
       "\n",
       "    .dataframe thead th {\n",
       "        text-align: right;\n",
       "    }\n",
       "</style>\n",
       "<table border=\"1\" class=\"dataframe\">\n",
       "  <thead>\n",
       "    <tr style=\"text-align: right;\">\n",
       "      <th></th>\n",
       "      <th>product_code</th>\n",
       "      <th>customer_code</th>\n",
       "      <th>market_code</th>\n",
       "      <th>order_date</th>\n",
       "      <th>sales_qty</th>\n",
       "      <th>sales_amount</th>\n",
       "      <th>currency</th>\n",
       "      <th>product_price</th>\n",
       "    </tr>\n",
       "  </thead>\n",
       "  <tbody>\n",
       "    <tr>\n",
       "      <th>0</th>\n",
       "      <td>Prod001</td>\n",
       "      <td>Cus001</td>\n",
       "      <td>Mark001</td>\n",
       "      <td>2017-10-10</td>\n",
       "      <td>100</td>\n",
       "      <td>41241.00</td>\n",
       "      <td>INR</td>\n",
       "      <td>412.41</td>\n",
       "    </tr>\n",
       "    <tr>\n",
       "      <th>2</th>\n",
       "      <td>Prod002</td>\n",
       "      <td>Cus003</td>\n",
       "      <td>Mark003</td>\n",
       "      <td>2018-04-06</td>\n",
       "      <td>1</td>\n",
       "      <td>875.00</td>\n",
       "      <td>INR</td>\n",
       "      <td>875.00</td>\n",
       "    </tr>\n",
       "    <tr>\n",
       "      <th>3</th>\n",
       "      <td>Prod002</td>\n",
       "      <td>Cus003</td>\n",
       "      <td>Mark003</td>\n",
       "      <td>2018-04-11</td>\n",
       "      <td>1</td>\n",
       "      <td>583.00</td>\n",
       "      <td>INR</td>\n",
       "      <td>583.00</td>\n",
       "    </tr>\n",
       "    <tr>\n",
       "      <th>4</th>\n",
       "      <td>Prod002</td>\n",
       "      <td>Cus004</td>\n",
       "      <td>Mark003</td>\n",
       "      <td>2018-06-18</td>\n",
       "      <td>6</td>\n",
       "      <td>7176.00</td>\n",
       "      <td>INR</td>\n",
       "      <td>1196.00</td>\n",
       "    </tr>\n",
       "  </tbody>\n",
       "</table>\n",
       "</div>"
      ],
      "text/plain": [
       "  product_code customer_code market_code  order_date  sales_qty  sales_amount  \\\n",
       "0      Prod001        Cus001     Mark001  2017-10-10        100      41241.00   \n",
       "2      Prod002        Cus003     Mark003  2018-04-06          1        875.00   \n",
       "3      Prod002        Cus003     Mark003  2018-04-11          1        583.00   \n",
       "4      Prod002        Cus004     Mark003  2018-06-18          6       7176.00   \n",
       "\n",
       "  currency  product_price  \n",
       "0      INR         412.41  \n",
       "2      INR         875.00  \n",
       "3      INR         583.00  \n",
       "4      INR        1196.00  "
      ]
     },
     "execution_count": 38,
     "metadata": {},
     "output_type": "execute_result"
    }
   ],
   "source": [
    "transactions.head(4)"
   ]
  },
  {
   "cell_type": "code",
   "execution_count": 39,
   "id": "761b14bf-693b-4916-9cba-ac1616c76dc3",
   "metadata": {},
   "outputs": [
    {
     "data": {
      "text/plain": [
       "product_code     0\n",
       "customer_code    0\n",
       "market_code      0\n",
       "order_date       0\n",
       "sales_qty        0\n",
       "sales_amount     0\n",
       "currency         0\n",
       "product_price    0\n",
       "dtype: int64"
      ]
     },
     "execution_count": 39,
     "metadata": {},
     "output_type": "execute_result"
    }
   ],
   "source": [
    "transactions.isnull().sum()"
   ]
  },
  {
   "cell_type": "markdown",
   "id": "11d70b4e-31bf-4739-88ae-a68989e7690a",
   "metadata": {},
   "source": [
    "# Adding Column Original_price"
   ]
  },
  {
   "cell_type": "code",
   "execution_count": null,
   "id": "92a5a823-8e0f-4e44-a90d-c3f45ae829fc",
   "metadata": {},
   "outputs": [],
   "source": []
  },
  {
   "cell_type": "markdown",
   "id": "ec683615-0c4a-4279-820a-5816e6c49e6c",
   "metadata": {},
   "source": [
    "### original_price refers to product price without profit"
   ]
  },
  {
   "cell_type": "code",
   "execution_count": 40,
   "id": "5dcca590-0c58-46b1-afff-db8572474642",
   "metadata": {},
   "outputs": [],
   "source": [
    "def calc_perc(y):\n",
    "    profit = 8\n",
    "    \n",
    "    if y > 4000:\n",
    "        profit = 23\n",
    "    elif y > 3000:\n",
    "        profit = 19\n",
    "    elif y > 2000:\n",
    "        profit = 17\n",
    "    elif y > 1000:\n",
    "        profit = 15\n",
    "    elif y > 500:\n",
    "        profit = 13\n",
    "    elif y > 100:\n",
    "        profit = 11\n",
    "    else:\n",
    "        profit = 8\n",
    "        \n",
    "    return profit    "
   ]
  },
  {
   "cell_type": "code",
   "execution_count": 41,
   "id": "9df864b4-ab31-46d4-a319-7cc4735e965c",
   "metadata": {},
   "outputs": [],
   "source": [
    "transactions['profit_percentage'] = transactions['product_price'].apply(calc_perc)"
   ]
  },
  {
   "cell_type": "code",
   "execution_count": 42,
   "id": "f0a2253b-5796-4dde-a793-96b3630dfd50",
   "metadata": {},
   "outputs": [
    {
     "data": {
      "text/html": [
       "<div>\n",
       "<style scoped>\n",
       "    .dataframe tbody tr th:only-of-type {\n",
       "        vertical-align: middle;\n",
       "    }\n",
       "\n",
       "    .dataframe tbody tr th {\n",
       "        vertical-align: top;\n",
       "    }\n",
       "\n",
       "    .dataframe thead th {\n",
       "        text-align: right;\n",
       "    }\n",
       "</style>\n",
       "<table border=\"1\" class=\"dataframe\">\n",
       "  <thead>\n",
       "    <tr style=\"text-align: right;\">\n",
       "      <th></th>\n",
       "      <th>product_code</th>\n",
       "      <th>customer_code</th>\n",
       "      <th>market_code</th>\n",
       "      <th>order_date</th>\n",
       "      <th>sales_qty</th>\n",
       "      <th>sales_amount</th>\n",
       "      <th>currency</th>\n",
       "      <th>product_price</th>\n",
       "      <th>profit_percentage</th>\n",
       "    </tr>\n",
       "  </thead>\n",
       "  <tbody>\n",
       "    <tr>\n",
       "      <th>0</th>\n",
       "      <td>Prod001</td>\n",
       "      <td>Cus001</td>\n",
       "      <td>Mark001</td>\n",
       "      <td>2017-10-10</td>\n",
       "      <td>100</td>\n",
       "      <td>41241.00</td>\n",
       "      <td>INR</td>\n",
       "      <td>412.41</td>\n",
       "      <td>11</td>\n",
       "    </tr>\n",
       "    <tr>\n",
       "      <th>2</th>\n",
       "      <td>Prod002</td>\n",
       "      <td>Cus003</td>\n",
       "      <td>Mark003</td>\n",
       "      <td>2018-04-06</td>\n",
       "      <td>1</td>\n",
       "      <td>875.00</td>\n",
       "      <td>INR</td>\n",
       "      <td>875.00</td>\n",
       "      <td>13</td>\n",
       "    </tr>\n",
       "    <tr>\n",
       "      <th>3</th>\n",
       "      <td>Prod002</td>\n",
       "      <td>Cus003</td>\n",
       "      <td>Mark003</td>\n",
       "      <td>2018-04-11</td>\n",
       "      <td>1</td>\n",
       "      <td>583.00</td>\n",
       "      <td>INR</td>\n",
       "      <td>583.00</td>\n",
       "      <td>13</td>\n",
       "    </tr>\n",
       "    <tr>\n",
       "      <th>4</th>\n",
       "      <td>Prod002</td>\n",
       "      <td>Cus004</td>\n",
       "      <td>Mark003</td>\n",
       "      <td>2018-06-18</td>\n",
       "      <td>6</td>\n",
       "      <td>7176.00</td>\n",
       "      <td>INR</td>\n",
       "      <td>1196.00</td>\n",
       "      <td>15</td>\n",
       "    </tr>\n",
       "    <tr>\n",
       "      <th>5</th>\n",
       "      <td>Prod003</td>\n",
       "      <td>Cus005</td>\n",
       "      <td>Mark004</td>\n",
       "      <td>2017-11-20</td>\n",
       "      <td>59</td>\n",
       "      <td>37500.00</td>\n",
       "      <td>INR</td>\n",
       "      <td>635.59</td>\n",
       "      <td>13</td>\n",
       "    </tr>\n",
       "  </tbody>\n",
       "</table>\n",
       "</div>"
      ],
      "text/plain": [
       "  product_code customer_code market_code  order_date  sales_qty  sales_amount  \\\n",
       "0      Prod001        Cus001     Mark001  2017-10-10        100      41241.00   \n",
       "2      Prod002        Cus003     Mark003  2018-04-06          1        875.00   \n",
       "3      Prod002        Cus003     Mark003  2018-04-11          1        583.00   \n",
       "4      Prod002        Cus004     Mark003  2018-06-18          6       7176.00   \n",
       "5      Prod003        Cus005     Mark004  2017-11-20         59      37500.00   \n",
       "\n",
       "  currency  product_price  profit_percentage  \n",
       "0      INR         412.41                 11  \n",
       "2      INR         875.00                 13  \n",
       "3      INR         583.00                 13  \n",
       "4      INR        1196.00                 15  \n",
       "5      INR         635.59                 13  "
      ]
     },
     "execution_count": 42,
     "metadata": {},
     "output_type": "execute_result"
    }
   ],
   "source": [
    "transactions.head()"
   ]
  },
  {
   "cell_type": "code",
   "execution_count": 43,
   "id": "3819c945-6510-415f-a922-ffce837df2cd",
   "metadata": {},
   "outputs": [
    {
     "data": {
      "text/plain": [
       "(148672, 9)"
      ]
     },
     "execution_count": 43,
     "metadata": {},
     "output_type": "execute_result"
    }
   ],
   "source": [
    "transactions.shape"
   ]
  },
  {
   "cell_type": "code",
   "execution_count": 46,
   "id": "09347614-f26c-4276-8a71-59bcd1742dd7",
   "metadata": {},
   "outputs": [
    {
     "data": {
      "text/plain": [
       "np.int64(0)"
      ]
     },
     "execution_count": 46,
     "metadata": {},
     "output_type": "execute_result"
    }
   ],
   "source": [
    "transactions['profit_percentage'].isnull().sum()\n"
   ]
  },
  {
   "cell_type": "code",
   "execution_count": 47,
   "id": "dceaab17-9dd6-49d1-af12-27c498bc3944",
   "metadata": {},
   "outputs": [
    {
     "data": {
      "text/plain": [
       "product_code         0\n",
       "customer_code        0\n",
       "market_code          0\n",
       "order_date           0\n",
       "sales_qty            0\n",
       "sales_amount         0\n",
       "currency             0\n",
       "product_price        0\n",
       "profit_percentage    0\n",
       "dtype: int64"
      ]
     },
     "execution_count": 47,
     "metadata": {},
     "output_type": "execute_result"
    }
   ],
   "source": [
    "transactions.isnull().sum()"
   ]
  },
  {
   "cell_type": "code",
   "execution_count": 48,
   "id": "0164bddb-0f58-43b2-92f5-a84efdc388fc",
   "metadata": {},
   "outputs": [],
   "source": [
    "transactions['original_price'] = (transactions['product_price'] - (transactions['product_price']*(transactions['profit_percentage'] / 100)))"
   ]
  },
  {
   "cell_type": "code",
   "execution_count": 49,
   "id": "72c7b150-b2be-468e-8d1f-a5098cf1dd2d",
   "metadata": {},
   "outputs": [
    {
     "data": {
      "text/html": [
       "<div>\n",
       "<style scoped>\n",
       "    .dataframe tbody tr th:only-of-type {\n",
       "        vertical-align: middle;\n",
       "    }\n",
       "\n",
       "    .dataframe tbody tr th {\n",
       "        vertical-align: top;\n",
       "    }\n",
       "\n",
       "    .dataframe thead th {\n",
       "        text-align: right;\n",
       "    }\n",
       "</style>\n",
       "<table border=\"1\" class=\"dataframe\">\n",
       "  <thead>\n",
       "    <tr style=\"text-align: right;\">\n",
       "      <th></th>\n",
       "      <th>product_code</th>\n",
       "      <th>customer_code</th>\n",
       "      <th>market_code</th>\n",
       "      <th>order_date</th>\n",
       "      <th>sales_qty</th>\n",
       "      <th>sales_amount</th>\n",
       "      <th>currency</th>\n",
       "      <th>product_price</th>\n",
       "      <th>profit_percentage</th>\n",
       "      <th>original_price</th>\n",
       "    </tr>\n",
       "  </thead>\n",
       "  <tbody>\n",
       "    <tr>\n",
       "      <th>0</th>\n",
       "      <td>Prod001</td>\n",
       "      <td>Cus001</td>\n",
       "      <td>Mark001</td>\n",
       "      <td>2017-10-10</td>\n",
       "      <td>100</td>\n",
       "      <td>41241.00</td>\n",
       "      <td>INR</td>\n",
       "      <td>412.41</td>\n",
       "      <td>11</td>\n",
       "      <td>367.04</td>\n",
       "    </tr>\n",
       "    <tr>\n",
       "      <th>2</th>\n",
       "      <td>Prod002</td>\n",
       "      <td>Cus003</td>\n",
       "      <td>Mark003</td>\n",
       "      <td>2018-04-06</td>\n",
       "      <td>1</td>\n",
       "      <td>875.00</td>\n",
       "      <td>INR</td>\n",
       "      <td>875.00</td>\n",
       "      <td>13</td>\n",
       "      <td>761.25</td>\n",
       "    </tr>\n",
       "    <tr>\n",
       "      <th>3</th>\n",
       "      <td>Prod002</td>\n",
       "      <td>Cus003</td>\n",
       "      <td>Mark003</td>\n",
       "      <td>2018-04-11</td>\n",
       "      <td>1</td>\n",
       "      <td>583.00</td>\n",
       "      <td>INR</td>\n",
       "      <td>583.00</td>\n",
       "      <td>13</td>\n",
       "      <td>507.21</td>\n",
       "    </tr>\n",
       "    <tr>\n",
       "      <th>4</th>\n",
       "      <td>Prod002</td>\n",
       "      <td>Cus004</td>\n",
       "      <td>Mark003</td>\n",
       "      <td>2018-06-18</td>\n",
       "      <td>6</td>\n",
       "      <td>7176.00</td>\n",
       "      <td>INR</td>\n",
       "      <td>1196.00</td>\n",
       "      <td>15</td>\n",
       "      <td>1016.60</td>\n",
       "    </tr>\n",
       "  </tbody>\n",
       "</table>\n",
       "</div>"
      ],
      "text/plain": [
       "  product_code customer_code market_code  order_date  sales_qty  sales_amount  \\\n",
       "0      Prod001        Cus001     Mark001  2017-10-10        100      41241.00   \n",
       "2      Prod002        Cus003     Mark003  2018-04-06          1        875.00   \n",
       "3      Prod002        Cus003     Mark003  2018-04-11          1        583.00   \n",
       "4      Prod002        Cus004     Mark003  2018-06-18          6       7176.00   \n",
       "\n",
       "  currency  product_price  profit_percentage  original_price  \n",
       "0      INR         412.41                 11          367.04  \n",
       "2      INR         875.00                 13          761.25  \n",
       "3      INR         583.00                 13          507.21  \n",
       "4      INR        1196.00                 15         1016.60  "
      ]
     },
     "execution_count": 49,
     "metadata": {},
     "output_type": "execute_result"
    }
   ],
   "source": [
    "transactions.head(4)"
   ]
  },
  {
   "cell_type": "markdown",
   "id": "d9394efe-511e-4e10-8994-0e783ef250b6",
   "metadata": {},
   "source": [
    "# Adding Column Total_profit"
   ]
  },
  {
   "cell_type": "code",
   "execution_count": 50,
   "id": "99867d8e-9d74-41ff-8f05-a8c72a18295a",
   "metadata": {},
   "outputs": [],
   "source": [
    "transactions['total_profit'] = (transactions['sales_qty'])*(transactions['product_price']*(transactions['profit_percentage'] / 100))"
   ]
  },
  {
   "cell_type": "code",
   "execution_count": 51,
   "id": "a65dbdd4-7bd1-45ff-9cc3-6848b4b5bd97",
   "metadata": {},
   "outputs": [
    {
     "data": {
      "text/html": [
       "<div>\n",
       "<style scoped>\n",
       "    .dataframe tbody tr th:only-of-type {\n",
       "        vertical-align: middle;\n",
       "    }\n",
       "\n",
       "    .dataframe tbody tr th {\n",
       "        vertical-align: top;\n",
       "    }\n",
       "\n",
       "    .dataframe thead th {\n",
       "        text-align: right;\n",
       "    }\n",
       "</style>\n",
       "<table border=\"1\" class=\"dataframe\">\n",
       "  <thead>\n",
       "    <tr style=\"text-align: right;\">\n",
       "      <th></th>\n",
       "      <th>product_code</th>\n",
       "      <th>customer_code</th>\n",
       "      <th>market_code</th>\n",
       "      <th>order_date</th>\n",
       "      <th>sales_qty</th>\n",
       "      <th>sales_amount</th>\n",
       "      <th>currency</th>\n",
       "      <th>product_price</th>\n",
       "      <th>profit_percentage</th>\n",
       "      <th>original_price</th>\n",
       "      <th>total_profit</th>\n",
       "    </tr>\n",
       "  </thead>\n",
       "  <tbody>\n",
       "    <tr>\n",
       "      <th>0</th>\n",
       "      <td>Prod001</td>\n",
       "      <td>Cus001</td>\n",
       "      <td>Mark001</td>\n",
       "      <td>2017-10-10</td>\n",
       "      <td>100</td>\n",
       "      <td>41241.00</td>\n",
       "      <td>INR</td>\n",
       "      <td>412.41</td>\n",
       "      <td>11</td>\n",
       "      <td>367.04</td>\n",
       "      <td>4536.51</td>\n",
       "    </tr>\n",
       "    <tr>\n",
       "      <th>2</th>\n",
       "      <td>Prod002</td>\n",
       "      <td>Cus003</td>\n",
       "      <td>Mark003</td>\n",
       "      <td>2018-04-06</td>\n",
       "      <td>1</td>\n",
       "      <td>875.00</td>\n",
       "      <td>INR</td>\n",
       "      <td>875.00</td>\n",
       "      <td>13</td>\n",
       "      <td>761.25</td>\n",
       "      <td>113.75</td>\n",
       "    </tr>\n",
       "    <tr>\n",
       "      <th>3</th>\n",
       "      <td>Prod002</td>\n",
       "      <td>Cus003</td>\n",
       "      <td>Mark003</td>\n",
       "      <td>2018-04-11</td>\n",
       "      <td>1</td>\n",
       "      <td>583.00</td>\n",
       "      <td>INR</td>\n",
       "      <td>583.00</td>\n",
       "      <td>13</td>\n",
       "      <td>507.21</td>\n",
       "      <td>75.79</td>\n",
       "    </tr>\n",
       "    <tr>\n",
       "      <th>4</th>\n",
       "      <td>Prod002</td>\n",
       "      <td>Cus004</td>\n",
       "      <td>Mark003</td>\n",
       "      <td>2018-06-18</td>\n",
       "      <td>6</td>\n",
       "      <td>7176.00</td>\n",
       "      <td>INR</td>\n",
       "      <td>1196.00</td>\n",
       "      <td>15</td>\n",
       "      <td>1016.60</td>\n",
       "      <td>1076.40</td>\n",
       "    </tr>\n",
       "  </tbody>\n",
       "</table>\n",
       "</div>"
      ],
      "text/plain": [
       "  product_code customer_code market_code  order_date  sales_qty  sales_amount  \\\n",
       "0      Prod001        Cus001     Mark001  2017-10-10        100      41241.00   \n",
       "2      Prod002        Cus003     Mark003  2018-04-06          1        875.00   \n",
       "3      Prod002        Cus003     Mark003  2018-04-11          1        583.00   \n",
       "4      Prod002        Cus004     Mark003  2018-06-18          6       7176.00   \n",
       "\n",
       "  currency  product_price  profit_percentage  original_price  total_profit  \n",
       "0      INR         412.41                 11          367.04       4536.51  \n",
       "2      INR         875.00                 13          761.25        113.75  \n",
       "3      INR         583.00                 13          507.21         75.79  \n",
       "4      INR        1196.00                 15         1016.60       1076.40  "
      ]
     },
     "execution_count": 51,
     "metadata": {},
     "output_type": "execute_result"
    }
   ],
   "source": [
    "transactions.head(4)"
   ]
  },
  {
   "cell_type": "markdown",
   "id": "00ff7083-05ed-4134-b30f-dd84a4c51953",
   "metadata": {},
   "source": [
    "# Adding Column Total_cost"
   ]
  },
  {
   "cell_type": "code",
   "execution_count": 52,
   "id": "9dbb8bf7-577b-40a0-b5d0-c535207d0ab9",
   "metadata": {},
   "outputs": [],
   "source": [
    "transactions['total_cost'] = (transactions['sales_amount'])-(transactions['total_profit'])"
   ]
  },
  {
   "cell_type": "code",
   "execution_count": 53,
   "id": "c8961e47-9081-4bef-b4c8-f10de3b96fec",
   "metadata": {},
   "outputs": [
    {
     "data": {
      "text/html": [
       "<div>\n",
       "<style scoped>\n",
       "    .dataframe tbody tr th:only-of-type {\n",
       "        vertical-align: middle;\n",
       "    }\n",
       "\n",
       "    .dataframe tbody tr th {\n",
       "        vertical-align: top;\n",
       "    }\n",
       "\n",
       "    .dataframe thead th {\n",
       "        text-align: right;\n",
       "    }\n",
       "</style>\n",
       "<table border=\"1\" class=\"dataframe\">\n",
       "  <thead>\n",
       "    <tr style=\"text-align: right;\">\n",
       "      <th></th>\n",
       "      <th>product_code</th>\n",
       "      <th>customer_code</th>\n",
       "      <th>market_code</th>\n",
       "      <th>order_date</th>\n",
       "      <th>sales_qty</th>\n",
       "      <th>sales_amount</th>\n",
       "      <th>currency</th>\n",
       "      <th>product_price</th>\n",
       "      <th>profit_percentage</th>\n",
       "      <th>original_price</th>\n",
       "      <th>total_profit</th>\n",
       "      <th>total_cost</th>\n",
       "    </tr>\n",
       "  </thead>\n",
       "  <tbody>\n",
       "    <tr>\n",
       "      <th>0</th>\n",
       "      <td>Prod001</td>\n",
       "      <td>Cus001</td>\n",
       "      <td>Mark001</td>\n",
       "      <td>2017-10-10</td>\n",
       "      <td>100</td>\n",
       "      <td>41241.00</td>\n",
       "      <td>INR</td>\n",
       "      <td>412.41</td>\n",
       "      <td>11</td>\n",
       "      <td>367.04</td>\n",
       "      <td>4536.51</td>\n",
       "      <td>36704.49</td>\n",
       "    </tr>\n",
       "    <tr>\n",
       "      <th>2</th>\n",
       "      <td>Prod002</td>\n",
       "      <td>Cus003</td>\n",
       "      <td>Mark003</td>\n",
       "      <td>2018-04-06</td>\n",
       "      <td>1</td>\n",
       "      <td>875.00</td>\n",
       "      <td>INR</td>\n",
       "      <td>875.00</td>\n",
       "      <td>13</td>\n",
       "      <td>761.25</td>\n",
       "      <td>113.75</td>\n",
       "      <td>761.25</td>\n",
       "    </tr>\n",
       "    <tr>\n",
       "      <th>3</th>\n",
       "      <td>Prod002</td>\n",
       "      <td>Cus003</td>\n",
       "      <td>Mark003</td>\n",
       "      <td>2018-04-11</td>\n",
       "      <td>1</td>\n",
       "      <td>583.00</td>\n",
       "      <td>INR</td>\n",
       "      <td>583.00</td>\n",
       "      <td>13</td>\n",
       "      <td>507.21</td>\n",
       "      <td>75.79</td>\n",
       "      <td>507.21</td>\n",
       "    </tr>\n",
       "    <tr>\n",
       "      <th>4</th>\n",
       "      <td>Prod002</td>\n",
       "      <td>Cus004</td>\n",
       "      <td>Mark003</td>\n",
       "      <td>2018-06-18</td>\n",
       "      <td>6</td>\n",
       "      <td>7176.00</td>\n",
       "      <td>INR</td>\n",
       "      <td>1196.00</td>\n",
       "      <td>15</td>\n",
       "      <td>1016.60</td>\n",
       "      <td>1076.40</td>\n",
       "      <td>6099.60</td>\n",
       "    </tr>\n",
       "  </tbody>\n",
       "</table>\n",
       "</div>"
      ],
      "text/plain": [
       "  product_code customer_code market_code  order_date  sales_qty  sales_amount  \\\n",
       "0      Prod001        Cus001     Mark001  2017-10-10        100      41241.00   \n",
       "2      Prod002        Cus003     Mark003  2018-04-06          1        875.00   \n",
       "3      Prod002        Cus003     Mark003  2018-04-11          1        583.00   \n",
       "4      Prod002        Cus004     Mark003  2018-06-18          6       7176.00   \n",
       "\n",
       "  currency  product_price  profit_percentage  original_price  total_profit  \\\n",
       "0      INR         412.41                 11          367.04       4536.51   \n",
       "2      INR         875.00                 13          761.25        113.75   \n",
       "3      INR         583.00                 13          507.21         75.79   \n",
       "4      INR        1196.00                 15         1016.60       1076.40   \n",
       "\n",
       "   total_cost  \n",
       "0    36704.49  \n",
       "2      761.25  \n",
       "3      507.21  \n",
       "4     6099.60  "
      ]
     },
     "execution_count": 53,
     "metadata": {},
     "output_type": "execute_result"
    }
   ],
   "source": [
    "transactions.head(4)"
   ]
  },
  {
   "cell_type": "markdown",
   "id": "1a1c486c-778c-4a3b-943d-22d4be55a46b",
   "metadata": {},
   "source": [
    "# Verifying Values"
   ]
  },
  {
   "cell_type": "code",
   "execution_count": 54,
   "id": "6e1421f5-56c1-4d23-ac08-9843417b1982",
   "metadata": {},
   "outputs": [
    {
     "data": {
      "text/plain": [
       "np.float64(986676768.0)"
      ]
     },
     "execution_count": 54,
     "metadata": {},
     "output_type": "execute_result"
    }
   ],
   "source": [
    "transactions['sales_amount'].sum()"
   ]
  },
  {
   "cell_type": "code",
   "execution_count": 55,
   "id": "a7b4ba65-3b7e-4f36-8a18-4f69c93c0629",
   "metadata": {},
   "outputs": [
    {
     "data": {
      "text/plain": [
       "np.float64(849375728.9)"
      ]
     },
     "execution_count": 55,
     "metadata": {},
     "output_type": "execute_result"
    }
   ],
   "source": [
    "transactions['total_cost'].sum()"
   ]
  },
  {
   "cell_type": "code",
   "execution_count": 56,
   "id": "e8b4c3e5-6f41-49a7-8df2-1b08c3411b6d",
   "metadata": {},
   "outputs": [
    {
     "data": {
      "text/plain": [
       "np.float64(137301039.1)"
      ]
     },
     "execution_count": 56,
     "metadata": {},
     "output_type": "execute_result"
    }
   ],
   "source": [
    "transactions['total_profit'].sum()"
   ]
  },
  {
   "cell_type": "code",
   "execution_count": 57,
   "id": "5426171c-3b8e-4a9b-b2ab-3e239120f209",
   "metadata": {},
   "outputs": [
    {
     "data": {
      "text/plain": [
       "np.float64(0.0)"
      ]
     },
     "execution_count": 57,
     "metadata": {},
     "output_type": "execute_result"
    }
   ],
   "source": [
    "(transactions['total_cost'].sum() + transactions['total_profit'].sum()) - transactions['sales_amount'].sum()"
   ]
  },
  {
   "cell_type": "code",
   "execution_count": 58,
   "id": "19e04276-3e15-4078-919b-17058e849911",
   "metadata": {},
   "outputs": [
    {
     "data": {
      "text/plain": [
       "(148672, 12)"
      ]
     },
     "execution_count": 58,
     "metadata": {},
     "output_type": "execute_result"
    }
   ],
   "source": [
    "transactions.shape"
   ]
  },
  {
   "cell_type": "markdown",
   "id": "1d0ddf5e-694f-48ce-b4e5-75948d7ccd8a",
   "metadata": {},
   "source": [
    "# Products"
   ]
  },
  {
   "cell_type": "code",
   "execution_count": 59,
   "id": "7aa5c48d-bb42-461f-b351-4cc49e2d2def",
   "metadata": {},
   "outputs": [
    {
     "data": {
      "text/html": [
       "<div>\n",
       "<style scoped>\n",
       "    .dataframe tbody tr th:only-of-type {\n",
       "        vertical-align: middle;\n",
       "    }\n",
       "\n",
       "    .dataframe tbody tr th {\n",
       "        vertical-align: top;\n",
       "    }\n",
       "\n",
       "    .dataframe thead th {\n",
       "        text-align: right;\n",
       "    }\n",
       "</style>\n",
       "<table border=\"1\" class=\"dataframe\">\n",
       "  <thead>\n",
       "    <tr style=\"text-align: right;\">\n",
       "      <th></th>\n",
       "      <th>product_code</th>\n",
       "      <th>product_type</th>\n",
       "    </tr>\n",
       "  </thead>\n",
       "  <tbody>\n",
       "    <tr>\n",
       "      <th>0</th>\n",
       "      <td>Prod001</td>\n",
       "      <td>Own Brand</td>\n",
       "    </tr>\n",
       "    <tr>\n",
       "      <th>1</th>\n",
       "      <td>Prod002</td>\n",
       "      <td>Own Brand</td>\n",
       "    </tr>\n",
       "    <tr>\n",
       "      <th>2</th>\n",
       "      <td>Prod003</td>\n",
       "      <td>Own Brand</td>\n",
       "    </tr>\n",
       "  </tbody>\n",
       "</table>\n",
       "</div>"
      ],
      "text/plain": [
       "  product_code product_type\n",
       "0      Prod001    Own Brand\n",
       "1      Prod002    Own Brand\n",
       "2      Prod003    Own Brand"
      ]
     },
     "execution_count": 59,
     "metadata": {},
     "output_type": "execute_result"
    }
   ],
   "source": [
    "products.head(3)"
   ]
  },
  {
   "cell_type": "code",
   "execution_count": 60,
   "id": "561f48ce-384e-4fc6-a2eb-ff6cf1dd5888",
   "metadata": {},
   "outputs": [
    {
     "data": {
      "text/plain": [
       "array(['Own Brand', 'Distribution'], dtype=object)"
      ]
     },
     "execution_count": 60,
     "metadata": {},
     "output_type": "execute_result"
    }
   ],
   "source": [
    "products['product_type'].unique()"
   ]
  },
  {
   "cell_type": "code",
   "execution_count": 61,
   "id": "749c7364-f40a-4371-b94a-2a4e4361f67e",
   "metadata": {},
   "outputs": [
    {
     "data": {
      "text/plain": [
       "279"
      ]
     },
     "execution_count": 61,
     "metadata": {},
     "output_type": "execute_result"
    }
   ],
   "source": [
    "products['product_code'].nunique()"
   ]
  },
  {
   "cell_type": "code",
   "execution_count": 62,
   "id": "bcafb232-c0b0-4a0d-9af8-d21d2c34398b",
   "metadata": {},
   "outputs": [
    {
     "data": {
      "text/plain": [
       "191"
      ]
     },
     "execution_count": 62,
     "metadata": {},
     "output_type": "execute_result"
    }
   ],
   "source": [
    "len(products[products['product_type'] == 'Own Brand'])"
   ]
  },
  {
   "cell_type": "code",
   "execution_count": 63,
   "id": "4382c400-4958-4103-9d71-382983f2b49a",
   "metadata": {},
   "outputs": [
    {
     "data": {
      "text/plain": [
       "88"
      ]
     },
     "execution_count": 63,
     "metadata": {},
     "output_type": "execute_result"
    }
   ],
   "source": [
    "len(products[products['product_type'] == 'Distribution'])"
   ]
  },
  {
   "cell_type": "code",
   "execution_count": 64,
   "id": "8f2a3c12-1ded-4dc5-a5ca-99c37778af35",
   "metadata": {},
   "outputs": [
    {
     "data": {
      "text/plain": [
       "338"
      ]
     },
     "execution_count": 64,
     "metadata": {},
     "output_type": "execute_result"
    }
   ],
   "source": [
    "transactions['product_code'].nunique()"
   ]
  },
  {
   "cell_type": "code",
   "execution_count": 66,
   "id": "392afe56-4463-431d-8af8-88fec7ca2ae0",
   "metadata": {},
   "outputs": [],
   "source": [
    "prod_code1 = pd.Series(products['product_code'].unique())"
   ]
  },
  {
   "cell_type": "code",
   "execution_count": 67,
   "id": "235bdc2e-4ed9-41f8-8709-7334f189c7c6",
   "metadata": {},
   "outputs": [],
   "source": [
    "prod_code2 = pd.Series(transactions['product_code'].unique())"
   ]
  },
  {
   "cell_type": "code",
   "execution_count": 68,
   "id": "2ae7225c-faf2-4392-b7ac-922decdb4eec",
   "metadata": {},
   "outputs": [
    {
     "data": {
      "text/plain": [
       "274    Prod275\n",
       "275    Prod276\n",
       "276    Prod277\n",
       "277    Prod278\n",
       "278    Prod279\n",
       "dtype: object"
      ]
     },
     "execution_count": 68,
     "metadata": {},
     "output_type": "execute_result"
    }
   ],
   "source": [
    "prod_code1.tail()"
   ]
  },
  {
   "cell_type": "code",
   "execution_count": 69,
   "id": "3fabf2f8-c2a7-4425-b3fb-a90157d53058",
   "metadata": {},
   "outputs": [
    {
     "data": {
      "text/plain": [
       "333    Prod335\n",
       "334    Prod336\n",
       "335    Prod337\n",
       "336    Prod338\n",
       "337    Prod339\n",
       "dtype: object"
      ]
     },
     "execution_count": 69,
     "metadata": {},
     "output_type": "execute_result"
    }
   ],
   "source": [
    "prod_code2.tail()"
   ]
  },
  {
   "cell_type": "code",
   "execution_count": 78,
   "id": "e763632f-fd98-4be6-8ed2-53275777e498",
   "metadata": {},
   "outputs": [],
   "source": [
    "for x in range(279, 338, 1):\n",
    "    new_row = pd.DataFrame([{'product_code':prod_code2[x],'product_type':'Own Brand'}])\n",
    "    products = pd.concat([products,new_row], ignore_index=True)"
   ]
  },
  {
   "cell_type": "code",
   "execution_count": 79,
   "id": "22a46036-efe7-47de-a741-df696b6466a7",
   "metadata": {},
   "outputs": [
    {
     "data": {
      "text/plain": [
       "338"
      ]
     },
     "execution_count": 79,
     "metadata": {},
     "output_type": "execute_result"
    }
   ],
   "source": [
    "products['product_code'].nunique()"
   ]
  },
  {
   "cell_type": "code",
   "execution_count": 80,
   "id": "612040eb-10a8-416b-a30b-d786fcced6e5",
   "metadata": {},
   "outputs": [
    {
     "data": {
      "text/html": [
       "<div>\n",
       "<style scoped>\n",
       "    .dataframe tbody tr th:only-of-type {\n",
       "        vertical-align: middle;\n",
       "    }\n",
       "\n",
       "    .dataframe tbody tr th {\n",
       "        vertical-align: top;\n",
       "    }\n",
       "\n",
       "    .dataframe thead th {\n",
       "        text-align: right;\n",
       "    }\n",
       "</style>\n",
       "<table border=\"1\" class=\"dataframe\">\n",
       "  <thead>\n",
       "    <tr style=\"text-align: right;\">\n",
       "      <th></th>\n",
       "      <th>product_code</th>\n",
       "      <th>product_type</th>\n",
       "    </tr>\n",
       "  </thead>\n",
       "  <tbody>\n",
       "    <tr>\n",
       "      <th>333</th>\n",
       "      <td>Prod335</td>\n",
       "      <td>Own Brand</td>\n",
       "    </tr>\n",
       "    <tr>\n",
       "      <th>334</th>\n",
       "      <td>Prod336</td>\n",
       "      <td>Own Brand</td>\n",
       "    </tr>\n",
       "    <tr>\n",
       "      <th>335</th>\n",
       "      <td>Prod337</td>\n",
       "      <td>Own Brand</td>\n",
       "    </tr>\n",
       "    <tr>\n",
       "      <th>336</th>\n",
       "      <td>Prod338</td>\n",
       "      <td>Own Brand</td>\n",
       "    </tr>\n",
       "    <tr>\n",
       "      <th>337</th>\n",
       "      <td>Prod339</td>\n",
       "      <td>Own Brand</td>\n",
       "    </tr>\n",
       "  </tbody>\n",
       "</table>\n",
       "</div>"
      ],
      "text/plain": [
       "    product_code product_type\n",
       "333      Prod335    Own Brand\n",
       "334      Prod336    Own Brand\n",
       "335      Prod337    Own Brand\n",
       "336      Prod338    Own Brand\n",
       "337      Prod339    Own Brand"
      ]
     },
     "execution_count": 80,
     "metadata": {},
     "output_type": "execute_result"
    }
   ],
   "source": [
    "products.tail()"
   ]
  },
  {
   "cell_type": "code",
   "execution_count": 81,
   "id": "227c56d9-cedc-4425-b115-f6fd9e98ec71",
   "metadata": {},
   "outputs": [
    {
     "data": {
      "text/plain": [
       "(148672, 12)"
      ]
     },
     "execution_count": 81,
     "metadata": {},
     "output_type": "execute_result"
    }
   ],
   "source": [
    "transactions.shape"
   ]
  },
  {
   "cell_type": "code",
   "execution_count": 82,
   "id": "87726a18-7c44-4948-a912-792eb57a9447",
   "metadata": {},
   "outputs": [],
   "source": [
    "transactions2 = pd.merge(transactions, products, how='inner', on='product_code')"
   ]
  },
  {
   "cell_type": "code",
   "execution_count": 83,
   "id": "f5862d07-ad11-4698-b958-40148e17d34a",
   "metadata": {},
   "outputs": [
    {
     "data": {
      "text/html": [
       "<div>\n",
       "<style scoped>\n",
       "    .dataframe tbody tr th:only-of-type {\n",
       "        vertical-align: middle;\n",
       "    }\n",
       "\n",
       "    .dataframe tbody tr th {\n",
       "        vertical-align: top;\n",
       "    }\n",
       "\n",
       "    .dataframe thead th {\n",
       "        text-align: right;\n",
       "    }\n",
       "</style>\n",
       "<table border=\"1\" class=\"dataframe\">\n",
       "  <thead>\n",
       "    <tr style=\"text-align: right;\">\n",
       "      <th></th>\n",
       "      <th>product_code</th>\n",
       "      <th>customer_code</th>\n",
       "      <th>market_code</th>\n",
       "      <th>order_date</th>\n",
       "      <th>sales_qty</th>\n",
       "      <th>sales_amount</th>\n",
       "      <th>currency</th>\n",
       "      <th>product_price</th>\n",
       "      <th>profit_percentage</th>\n",
       "      <th>original_price</th>\n",
       "      <th>total_profit</th>\n",
       "      <th>total_cost</th>\n",
       "      <th>product_type</th>\n",
       "    </tr>\n",
       "  </thead>\n",
       "  <tbody>\n",
       "    <tr>\n",
       "      <th>148577</th>\n",
       "      <td>Prod339</td>\n",
       "      <td>Cus032</td>\n",
       "      <td>Mark009</td>\n",
       "      <td>2019-01-18</td>\n",
       "      <td>1</td>\n",
       "      <td>1139.00</td>\n",
       "      <td>INR</td>\n",
       "      <td>1139.00</td>\n",
       "      <td>15</td>\n",
       "      <td>968.15</td>\n",
       "      <td>170.85</td>\n",
       "      <td>968.15</td>\n",
       "      <td>Own Brand</td>\n",
       "    </tr>\n",
       "    <tr>\n",
       "      <th>14564</th>\n",
       "      <td>Prod060</td>\n",
       "      <td>Cus014</td>\n",
       "      <td>Mark003</td>\n",
       "      <td>2017-12-11</td>\n",
       "      <td>40</td>\n",
       "      <td>14940.00</td>\n",
       "      <td>INR</td>\n",
       "      <td>373.50</td>\n",
       "      <td>11</td>\n",
       "      <td>332.42</td>\n",
       "      <td>1643.40</td>\n",
       "      <td>13296.60</td>\n",
       "      <td>Own Brand</td>\n",
       "    </tr>\n",
       "    <tr>\n",
       "      <th>43612</th>\n",
       "      <td>Prod129</td>\n",
       "      <td>Cus002</td>\n",
       "      <td>Mark005</td>\n",
       "      <td>2018-02-14</td>\n",
       "      <td>1</td>\n",
       "      <td>306.00</td>\n",
       "      <td>INR</td>\n",
       "      <td>306.00</td>\n",
       "      <td>11</td>\n",
       "      <td>272.34</td>\n",
       "      <td>33.66</td>\n",
       "      <td>272.34</td>\n",
       "      <td>Distribution</td>\n",
       "    </tr>\n",
       "  </tbody>\n",
       "</table>\n",
       "</div>"
      ],
      "text/plain": [
       "       product_code customer_code market_code  order_date  sales_qty  \\\n",
       "148577      Prod339        Cus032     Mark009  2019-01-18          1   \n",
       "14564       Prod060        Cus014     Mark003  2017-12-11         40   \n",
       "43612       Prod129        Cus002     Mark005  2018-02-14          1   \n",
       "\n",
       "        sales_amount currency  product_price  profit_percentage  \\\n",
       "148577       1139.00      INR        1139.00                 15   \n",
       "14564       14940.00      INR         373.50                 11   \n",
       "43612         306.00      INR         306.00                 11   \n",
       "\n",
       "        original_price  total_profit  total_cost  product_type  \n",
       "148577          968.15        170.85      968.15     Own Brand  \n",
       "14564           332.42       1643.40    13296.60     Own Brand  \n",
       "43612           272.34         33.66      272.34  Distribution  "
      ]
     },
     "execution_count": 83,
     "metadata": {},
     "output_type": "execute_result"
    }
   ],
   "source": [
    "transactions2.sample(3)"
   ]
  },
  {
   "cell_type": "code",
   "execution_count": 84,
   "id": "3b9a0094-ae64-48aa-b99d-45d1f1eea2e8",
   "metadata": {},
   "outputs": [
    {
     "data": {
      "text/plain": [
       "(148672, 13)"
      ]
     },
     "execution_count": 84,
     "metadata": {},
     "output_type": "execute_result"
    }
   ],
   "source": [
    "transactions2.shape"
   ]
  },
  {
   "cell_type": "markdown",
   "id": "b85c7b2d-e458-48af-a5ea-479bbeca5f17",
   "metadata": {},
   "source": [
    "# Customers"
   ]
  },
  {
   "cell_type": "code",
   "execution_count": 85,
   "id": "b7aace1b-35ec-44fd-8148-c03e46d026cb",
   "metadata": {},
   "outputs": [
    {
     "data": {
      "text/html": [
       "<div>\n",
       "<style scoped>\n",
       "    .dataframe tbody tr th:only-of-type {\n",
       "        vertical-align: middle;\n",
       "    }\n",
       "\n",
       "    .dataframe tbody tr th {\n",
       "        vertical-align: top;\n",
       "    }\n",
       "\n",
       "    .dataframe thead th {\n",
       "        text-align: right;\n",
       "    }\n",
       "</style>\n",
       "<table border=\"1\" class=\"dataframe\">\n",
       "  <thead>\n",
       "    <tr style=\"text-align: right;\">\n",
       "      <th></th>\n",
       "      <th>customer_code</th>\n",
       "      <th>custmer_name</th>\n",
       "      <th>customer_type</th>\n",
       "    </tr>\n",
       "  </thead>\n",
       "  <tbody>\n",
       "    <tr>\n",
       "      <th>0</th>\n",
       "      <td>Cus001</td>\n",
       "      <td>Surge Stores</td>\n",
       "      <td>Brick &amp; Mortar</td>\n",
       "    </tr>\n",
       "    <tr>\n",
       "      <th>1</th>\n",
       "      <td>Cus002</td>\n",
       "      <td>Nomad Stores</td>\n",
       "      <td>Brick &amp; Mortar</td>\n",
       "    </tr>\n",
       "    <tr>\n",
       "      <th>2</th>\n",
       "      <td>Cus003</td>\n",
       "      <td>Excel Stores</td>\n",
       "      <td>Brick &amp; Mortar</td>\n",
       "    </tr>\n",
       "  </tbody>\n",
       "</table>\n",
       "</div>"
      ],
      "text/plain": [
       "  customer_code  custmer_name   customer_type\n",
       "0        Cus001  Surge Stores  Brick & Mortar\n",
       "1        Cus002  Nomad Stores  Brick & Mortar\n",
       "2        Cus003  Excel Stores  Brick & Mortar"
      ]
     },
     "execution_count": 85,
     "metadata": {},
     "output_type": "execute_result"
    }
   ],
   "source": [
    "customers.head(3)"
   ]
  },
  {
   "cell_type": "code",
   "execution_count": 86,
   "id": "72acdd17-10cd-4796-a3c3-67ce142de012",
   "metadata": {},
   "outputs": [
    {
     "data": {
      "text/plain": [
       "array(['Brick & Mortar', 'E-Commerce'], dtype=object)"
      ]
     },
     "execution_count": 86,
     "metadata": {},
     "output_type": "execute_result"
    }
   ],
   "source": [
    "customers['customer_type'].unique()"
   ]
  },
  {
   "cell_type": "code",
   "execution_count": 87,
   "id": "382e14ef-34c4-464e-bda2-864baaed0774",
   "metadata": {},
   "outputs": [
    {
     "data": {
      "text/plain": [
       "2"
      ]
     },
     "execution_count": 87,
     "metadata": {},
     "output_type": "execute_result"
    }
   ],
   "source": [
    "customers['customer_type'].nunique()"
   ]
  },
  {
   "cell_type": "code",
   "execution_count": 88,
   "id": "eeb74eb7-0dac-46b6-a788-851db3625c02",
   "metadata": {},
   "outputs": [
    {
     "data": {
      "text/plain": [
       "38"
      ]
     },
     "execution_count": 88,
     "metadata": {},
     "output_type": "execute_result"
    }
   ],
   "source": [
    "customers['customer_code'].nunique()"
   ]
  },
  {
   "cell_type": "code",
   "execution_count": 89,
   "id": "b0515994-925a-49c5-a3a0-ac2ce8af3d66",
   "metadata": {},
   "outputs": [
    {
     "data": {
      "text/plain": [
       "38"
      ]
     },
     "execution_count": 89,
     "metadata": {},
     "output_type": "execute_result"
    }
   ],
   "source": [
    "transactions2['customer_code'].nunique()"
   ]
  },
  {
   "cell_type": "code",
   "execution_count": 90,
   "id": "6b982ce3-ecc7-4919-a418-fd8dce04e206",
   "metadata": {},
   "outputs": [
    {
     "data": {
      "text/plain": [
       "(148672, 13)"
      ]
     },
     "execution_count": 90,
     "metadata": {},
     "output_type": "execute_result"
    }
   ],
   "source": [
    "transactions2.shape"
   ]
  },
  {
   "cell_type": "code",
   "execution_count": 92,
   "id": "4fc0bbfc-8499-4a19-b29f-77be153d7a43",
   "metadata": {},
   "outputs": [],
   "source": [
    "transactions3 = pd.merge(transactions2, customers, how='inner', on='customer_code')"
   ]
  },
  {
   "cell_type": "code",
   "execution_count": 93,
   "id": "c7223304-7c95-4bd0-9996-9d4b164dfc8e",
   "metadata": {},
   "outputs": [
    {
     "data": {
      "text/html": [
       "<div>\n",
       "<style scoped>\n",
       "    .dataframe tbody tr th:only-of-type {\n",
       "        vertical-align: middle;\n",
       "    }\n",
       "\n",
       "    .dataframe tbody tr th {\n",
       "        vertical-align: top;\n",
       "    }\n",
       "\n",
       "    .dataframe thead th {\n",
       "        text-align: right;\n",
       "    }\n",
       "</style>\n",
       "<table border=\"1\" class=\"dataframe\">\n",
       "  <thead>\n",
       "    <tr style=\"text-align: right;\">\n",
       "      <th></th>\n",
       "      <th>product_code</th>\n",
       "      <th>customer_code</th>\n",
       "      <th>market_code</th>\n",
       "      <th>order_date</th>\n",
       "      <th>sales_qty</th>\n",
       "      <th>sales_amount</th>\n",
       "      <th>currency</th>\n",
       "      <th>product_price</th>\n",
       "      <th>profit_percentage</th>\n",
       "      <th>original_price</th>\n",
       "      <th>total_profit</th>\n",
       "      <th>total_cost</th>\n",
       "      <th>product_type</th>\n",
       "      <th>custmer_name</th>\n",
       "      <th>customer_type</th>\n",
       "    </tr>\n",
       "  </thead>\n",
       "  <tbody>\n",
       "    <tr>\n",
       "      <th>135558</th>\n",
       "      <td>Prod318</td>\n",
       "      <td>Cus027</td>\n",
       "      <td>Mark003</td>\n",
       "      <td>2019-03-15</td>\n",
       "      <td>13</td>\n",
       "      <td>19611.00</td>\n",
       "      <td>INR</td>\n",
       "      <td>1508.54</td>\n",
       "      <td>15</td>\n",
       "      <td>1282.26</td>\n",
       "      <td>2941.65</td>\n",
       "      <td>16669.35</td>\n",
       "      <td>Own Brand</td>\n",
       "      <td>Control</td>\n",
       "      <td>E-Commerce</td>\n",
       "    </tr>\n",
       "    <tr>\n",
       "      <th>138293</th>\n",
       "      <td>Prod326</td>\n",
       "      <td>Cus014</td>\n",
       "      <td>Mark003</td>\n",
       "      <td>2017-12-22</td>\n",
       "      <td>6</td>\n",
       "      <td>9954.00</td>\n",
       "      <td>INR</td>\n",
       "      <td>1659.00</td>\n",
       "      <td>15</td>\n",
       "      <td>1410.15</td>\n",
       "      <td>1493.10</td>\n",
       "      <td>8460.90</td>\n",
       "      <td>Own Brand</td>\n",
       "      <td>Forward Stores</td>\n",
       "      <td>Brick &amp; Mortar</td>\n",
       "    </tr>\n",
       "    <tr>\n",
       "      <th>126398</th>\n",
       "      <td>Prod303</td>\n",
       "      <td>Cus020</td>\n",
       "      <td>Mark004</td>\n",
       "      <td>2018-04-03</td>\n",
       "      <td>1</td>\n",
       "      <td>292.00</td>\n",
       "      <td>INR</td>\n",
       "      <td>292.00</td>\n",
       "      <td>11</td>\n",
       "      <td>259.88</td>\n",
       "      <td>32.12</td>\n",
       "      <td>259.88</td>\n",
       "      <td>Own Brand</td>\n",
       "      <td>Nixon</td>\n",
       "      <td>E-Commerce</td>\n",
       "    </tr>\n",
       "  </tbody>\n",
       "</table>\n",
       "</div>"
      ],
      "text/plain": [
       "       product_code customer_code market_code  order_date  sales_qty  \\\n",
       "135558      Prod318        Cus027     Mark003  2019-03-15         13   \n",
       "138293      Prod326        Cus014     Mark003  2017-12-22          6   \n",
       "126398      Prod303        Cus020     Mark004  2018-04-03          1   \n",
       "\n",
       "        sales_amount currency  product_price  profit_percentage  \\\n",
       "135558      19611.00      INR        1508.54                 15   \n",
       "138293       9954.00      INR        1659.00                 15   \n",
       "126398        292.00      INR         292.00                 11   \n",
       "\n",
       "        original_price  total_profit  total_cost product_type    custmer_name  \\\n",
       "135558         1282.26       2941.65    16669.35    Own Brand         Control   \n",
       "138293         1410.15       1493.10     8460.90    Own Brand  Forward Stores   \n",
       "126398          259.88         32.12      259.88    Own Brand           Nixon   \n",
       "\n",
       "         customer_type  \n",
       "135558      E-Commerce  \n",
       "138293  Brick & Mortar  \n",
       "126398      E-Commerce  "
      ]
     },
     "execution_count": 93,
     "metadata": {},
     "output_type": "execute_result"
    }
   ],
   "source": [
    "transactions3.sample(3)"
   ]
  },
  {
   "cell_type": "code",
   "execution_count": 94,
   "id": "e023b3cf-372e-4bc3-b6d1-44c21adeff22",
   "metadata": {},
   "outputs": [
    {
     "data": {
      "text/plain": [
       "(148672, 15)"
      ]
     },
     "execution_count": 94,
     "metadata": {},
     "output_type": "execute_result"
    }
   ],
   "source": [
    "transactions3.shape"
   ]
  },
  {
   "cell_type": "markdown",
   "id": "5545c7ad-3319-4a1d-b1f6-85af406e6aa8",
   "metadata": {},
   "source": [
    "# Markets"
   ]
  },
  {
   "cell_type": "code",
   "execution_count": 95,
   "id": "a6fc6394-1fcb-40f6-a253-f4c30cc04856",
   "metadata": {},
   "outputs": [
    {
     "data": {
      "text/plain": [
       "Index(['markets_code', 'markets_name', 'zone'], dtype='object')"
      ]
     },
     "execution_count": 95,
     "metadata": {},
     "output_type": "execute_result"
    }
   ],
   "source": [
    "markets.columns"
   ]
  },
  {
   "cell_type": "code",
   "execution_count": 96,
   "id": "0cf6fe11-8740-4505-9115-29ee143a9434",
   "metadata": {},
   "outputs": [],
   "source": [
    "markets = markets.rename(columns={\"markets_code\": \"market_code\", \"markets_name\": \"market_name\"})"
   ]
  },
  {
   "cell_type": "code",
   "execution_count": 97,
   "id": "9c3582df-84dc-4408-8581-4c34656d9429",
   "metadata": {},
   "outputs": [
    {
     "data": {
      "text/html": [
       "<div>\n",
       "<style scoped>\n",
       "    .dataframe tbody tr th:only-of-type {\n",
       "        vertical-align: middle;\n",
       "    }\n",
       "\n",
       "    .dataframe tbody tr th {\n",
       "        vertical-align: top;\n",
       "    }\n",
       "\n",
       "    .dataframe thead th {\n",
       "        text-align: right;\n",
       "    }\n",
       "</style>\n",
       "<table border=\"1\" class=\"dataframe\">\n",
       "  <thead>\n",
       "    <tr style=\"text-align: right;\">\n",
       "      <th></th>\n",
       "      <th>market_code</th>\n",
       "      <th>market_name</th>\n",
       "      <th>zone</th>\n",
       "    </tr>\n",
       "  </thead>\n",
       "  <tbody>\n",
       "    <tr>\n",
       "      <th>0</th>\n",
       "      <td>Mark001</td>\n",
       "      <td>Chennai</td>\n",
       "      <td>South</td>\n",
       "    </tr>\n",
       "    <tr>\n",
       "      <th>1</th>\n",
       "      <td>Mark002</td>\n",
       "      <td>Mumbai</td>\n",
       "      <td>Central</td>\n",
       "    </tr>\n",
       "    <tr>\n",
       "      <th>2</th>\n",
       "      <td>Mark003</td>\n",
       "      <td>Ahmedabad</td>\n",
       "      <td>North</td>\n",
       "    </tr>\n",
       "  </tbody>\n",
       "</table>\n",
       "</div>"
      ],
      "text/plain": [
       "  market_code market_name     zone\n",
       "0     Mark001     Chennai    South\n",
       "1     Mark002      Mumbai  Central\n",
       "2     Mark003   Ahmedabad    North"
      ]
     },
     "execution_count": 97,
     "metadata": {},
     "output_type": "execute_result"
    }
   ],
   "source": [
    "markets.head(3)"
   ]
  },
  {
   "cell_type": "code",
   "execution_count": 98,
   "id": "77836540-ba87-46cc-8e4a-afe56605c42b",
   "metadata": {},
   "outputs": [
    {
     "data": {
      "text/plain": [
       "array(['Chennai', 'Mumbai', 'Ahmedabad', 'Delhi NCR', 'Kanpur',\n",
       "       'Bengaluru', 'Bhopal', 'Lucknow', 'Patna', 'Kochi', 'Nagpur',\n",
       "       'Surat', 'Hyderabad', 'Bhubaneshwar'], dtype=object)"
      ]
     },
     "execution_count": 98,
     "metadata": {},
     "output_type": "execute_result"
    }
   ],
   "source": [
    "markets['market_name'].unique()"
   ]
  },
  {
   "cell_type": "code",
   "execution_count": 99,
   "id": "9ee593ef-d5db-4067-acb6-8bb3b94ef3b1",
   "metadata": {},
   "outputs": [
    {
     "data": {
      "text/plain": [
       "14"
      ]
     },
     "execution_count": 99,
     "metadata": {},
     "output_type": "execute_result"
    }
   ],
   "source": [
    "markets['market_name'].nunique()"
   ]
  },
  {
   "cell_type": "code",
   "execution_count": 100,
   "id": "4915aaa0-822b-4eb7-9200-c10aad1c9d88",
   "metadata": {},
   "outputs": [
    {
     "data": {
      "text/plain": [
       "array(['South', 'Central', 'North'], dtype=object)"
      ]
     },
     "execution_count": 100,
     "metadata": {},
     "output_type": "execute_result"
    }
   ],
   "source": [
    "markets['zone'].unique()"
   ]
  },
  {
   "cell_type": "code",
   "execution_count": 101,
   "id": "6fffd915-9e78-4a1c-a8d3-fc0b1249f483",
   "metadata": {},
   "outputs": [
    {
     "data": {
      "text/plain": [
       "3"
      ]
     },
     "execution_count": 101,
     "metadata": {},
     "output_type": "execute_result"
    }
   ],
   "source": [
    "markets['zone'].nunique()"
   ]
  },
  {
   "cell_type": "code",
   "execution_count": 102,
   "id": "4ee6aa36-4c40-4e15-8190-8ecf76a4a6f3",
   "metadata": {},
   "outputs": [
    {
     "data": {
      "text/plain": [
       "15"
      ]
     },
     "execution_count": 102,
     "metadata": {},
     "output_type": "execute_result"
    }
   ],
   "source": [
    "markets['market_code'].nunique()"
   ]
  },
  {
   "cell_type": "code",
   "execution_count": 103,
   "id": "1393a6fb-6167-49fc-af13-c78da7ef71c0",
   "metadata": {},
   "outputs": [
    {
     "data": {
      "text/plain": [
       "15"
      ]
     },
     "execution_count": 103,
     "metadata": {},
     "output_type": "execute_result"
    }
   ],
   "source": [
    "transactions3['market_code'].nunique()"
   ]
  },
  {
   "cell_type": "code",
   "execution_count": 104,
   "id": "0ee82259-7293-46a0-9128-471e1f4837d4",
   "metadata": {},
   "outputs": [
    {
     "data": {
      "text/plain": [
       "(148672, 15)"
      ]
     },
     "execution_count": 104,
     "metadata": {},
     "output_type": "execute_result"
    }
   ],
   "source": [
    "transactions3.shape"
   ]
  },
  {
   "cell_type": "code",
   "execution_count": 105,
   "id": "11ccc003-13fa-4868-8148-825d9f7d5779",
   "metadata": {},
   "outputs": [],
   "source": [
    "transactions4 = pd.merge(transactions3, markets, how='inner', on='market_code')"
   ]
  },
  {
   "cell_type": "code",
   "execution_count": 106,
   "id": "f8c8f05b-0d22-4925-8c42-a061edf2ae3c",
   "metadata": {},
   "outputs": [
    {
     "data": {
      "text/html": [
       "<div>\n",
       "<style scoped>\n",
       "    .dataframe tbody tr th:only-of-type {\n",
       "        vertical-align: middle;\n",
       "    }\n",
       "\n",
       "    .dataframe tbody tr th {\n",
       "        vertical-align: top;\n",
       "    }\n",
       "\n",
       "    .dataframe thead th {\n",
       "        text-align: right;\n",
       "    }\n",
       "</style>\n",
       "<table border=\"1\" class=\"dataframe\">\n",
       "  <thead>\n",
       "    <tr style=\"text-align: right;\">\n",
       "      <th></th>\n",
       "      <th>product_code</th>\n",
       "      <th>customer_code</th>\n",
       "      <th>market_code</th>\n",
       "      <th>order_date</th>\n",
       "      <th>sales_qty</th>\n",
       "      <th>sales_amount</th>\n",
       "      <th>currency</th>\n",
       "      <th>product_price</th>\n",
       "      <th>profit_percentage</th>\n",
       "      <th>original_price</th>\n",
       "      <th>total_profit</th>\n",
       "      <th>total_cost</th>\n",
       "      <th>product_type</th>\n",
       "      <th>custmer_name</th>\n",
       "      <th>customer_type</th>\n",
       "      <th>market_name</th>\n",
       "      <th>zone</th>\n",
       "    </tr>\n",
       "  </thead>\n",
       "  <tbody>\n",
       "    <tr>\n",
       "      <th>0</th>\n",
       "      <td>Prod001</td>\n",
       "      <td>Cus001</td>\n",
       "      <td>Mark001</td>\n",
       "      <td>2017-10-10</td>\n",
       "      <td>100</td>\n",
       "      <td>41241.00</td>\n",
       "      <td>INR</td>\n",
       "      <td>412.41</td>\n",
       "      <td>11</td>\n",
       "      <td>367.04</td>\n",
       "      <td>4536.51</td>\n",
       "      <td>36704.49</td>\n",
       "      <td>Own Brand</td>\n",
       "      <td>Surge Stores</td>\n",
       "      <td>Brick &amp; Mortar</td>\n",
       "      <td>Chennai</td>\n",
       "      <td>South</td>\n",
       "    </tr>\n",
       "    <tr>\n",
       "      <th>1</th>\n",
       "      <td>Prod002</td>\n",
       "      <td>Cus003</td>\n",
       "      <td>Mark003</td>\n",
       "      <td>2018-04-06</td>\n",
       "      <td>1</td>\n",
       "      <td>875.00</td>\n",
       "      <td>INR</td>\n",
       "      <td>875.00</td>\n",
       "      <td>13</td>\n",
       "      <td>761.25</td>\n",
       "      <td>113.75</td>\n",
       "      <td>761.25</td>\n",
       "      <td>Own Brand</td>\n",
       "      <td>Excel Stores</td>\n",
       "      <td>Brick &amp; Mortar</td>\n",
       "      <td>Ahmedabad</td>\n",
       "      <td>North</td>\n",
       "    </tr>\n",
       "    <tr>\n",
       "      <th>2</th>\n",
       "      <td>Prod002</td>\n",
       "      <td>Cus003</td>\n",
       "      <td>Mark003</td>\n",
       "      <td>2018-04-11</td>\n",
       "      <td>1</td>\n",
       "      <td>583.00</td>\n",
       "      <td>INR</td>\n",
       "      <td>583.00</td>\n",
       "      <td>13</td>\n",
       "      <td>507.21</td>\n",
       "      <td>75.79</td>\n",
       "      <td>507.21</td>\n",
       "      <td>Own Brand</td>\n",
       "      <td>Excel Stores</td>\n",
       "      <td>Brick &amp; Mortar</td>\n",
       "      <td>Ahmedabad</td>\n",
       "      <td>North</td>\n",
       "    </tr>\n",
       "  </tbody>\n",
       "</table>\n",
       "</div>"
      ],
      "text/plain": [
       "  product_code customer_code market_code  order_date  sales_qty  sales_amount  \\\n",
       "0      Prod001        Cus001     Mark001  2017-10-10        100      41241.00   \n",
       "1      Prod002        Cus003     Mark003  2018-04-06          1        875.00   \n",
       "2      Prod002        Cus003     Mark003  2018-04-11          1        583.00   \n",
       "\n",
       "  currency  product_price  profit_percentage  original_price  total_profit  \\\n",
       "0      INR         412.41                 11          367.04       4536.51   \n",
       "1      INR         875.00                 13          761.25        113.75   \n",
       "2      INR         583.00                 13          507.21         75.79   \n",
       "\n",
       "   total_cost product_type  custmer_name   customer_type market_name   zone  \n",
       "0    36704.49    Own Brand  Surge Stores  Brick & Mortar     Chennai  South  \n",
       "1      761.25    Own Brand  Excel Stores  Brick & Mortar   Ahmedabad  North  \n",
       "2      507.21    Own Brand  Excel Stores  Brick & Mortar   Ahmedabad  North  "
      ]
     },
     "execution_count": 106,
     "metadata": {},
     "output_type": "execute_result"
    }
   ],
   "source": [
    "transactions4.head(3)"
   ]
  },
  {
   "cell_type": "code",
   "execution_count": 107,
   "id": "2c0dfceb-5a3c-4ce3-9d60-b9e1ffaae5a7",
   "metadata": {},
   "outputs": [
    {
     "data": {
      "text/plain": [
       "(148672, 17)"
      ]
     },
     "execution_count": 107,
     "metadata": {},
     "output_type": "execute_result"
    }
   ],
   "source": [
    "transactions4.shape"
   ]
  },
  {
   "cell_type": "markdown",
   "id": "3f79b140-b92d-495e-8c77-32a14b019a3b",
   "metadata": {},
   "source": [
    "# Date"
   ]
  },
  {
   "cell_type": "code",
   "execution_count": 108,
   "id": "6a1b7419-b681-4102-a6a1-87ceb0440097",
   "metadata": {},
   "outputs": [
    {
     "data": {
      "text/plain": [
       "Index(['date', 'cy_date', 'year', 'month_name', 'date_yy_mmm'], dtype='object')"
      ]
     },
     "execution_count": 108,
     "metadata": {},
     "output_type": "execute_result"
    }
   ],
   "source": [
    "date.columns"
   ]
  },
  {
   "cell_type": "code",
   "execution_count": 109,
   "id": "a84e4fd5-6555-4616-a4b2-2df6e2955dca",
   "metadata": {},
   "outputs": [],
   "source": [
    "date = date.rename(columns={\"date\": \"order_date\"})"
   ]
  },
  {
   "cell_type": "code",
   "execution_count": 110,
   "id": "a3d27c6f-5881-46a0-908d-ff11ef338822",
   "metadata": {},
   "outputs": [
    {
     "data": {
      "text/html": [
       "<div>\n",
       "<style scoped>\n",
       "    .dataframe tbody tr th:only-of-type {\n",
       "        vertical-align: middle;\n",
       "    }\n",
       "\n",
       "    .dataframe tbody tr th {\n",
       "        vertical-align: top;\n",
       "    }\n",
       "\n",
       "    .dataframe thead th {\n",
       "        text-align: right;\n",
       "    }\n",
       "</style>\n",
       "<table border=\"1\" class=\"dataframe\">\n",
       "  <thead>\n",
       "    <tr style=\"text-align: right;\">\n",
       "      <th></th>\n",
       "      <th>order_date</th>\n",
       "      <th>cy_date</th>\n",
       "      <th>year</th>\n",
       "      <th>month_name</th>\n",
       "      <th>date_yy_mmm</th>\n",
       "    </tr>\n",
       "  </thead>\n",
       "  <tbody>\n",
       "    <tr>\n",
       "      <th>0</th>\n",
       "      <td>2017-06-01</td>\n",
       "      <td>2017-06-01</td>\n",
       "      <td>2017</td>\n",
       "      <td>June</td>\n",
       "      <td>17-Jun</td>\n",
       "    </tr>\n",
       "    <tr>\n",
       "      <th>1</th>\n",
       "      <td>2017-06-02</td>\n",
       "      <td>2017-06-01</td>\n",
       "      <td>2017</td>\n",
       "      <td>June</td>\n",
       "      <td>17-Jun</td>\n",
       "    </tr>\n",
       "    <tr>\n",
       "      <th>2</th>\n",
       "      <td>2017-06-03</td>\n",
       "      <td>2017-06-01</td>\n",
       "      <td>2017</td>\n",
       "      <td>June</td>\n",
       "      <td>17-Jun</td>\n",
       "    </tr>\n",
       "  </tbody>\n",
       "</table>\n",
       "</div>"
      ],
      "text/plain": [
       "   order_date     cy_date  year month_name date_yy_mmm\n",
       "0  2017-06-01  2017-06-01  2017       June      17-Jun\n",
       "1  2017-06-02  2017-06-01  2017       June      17-Jun\n",
       "2  2017-06-03  2017-06-01  2017       June      17-Jun"
      ]
     },
     "execution_count": 110,
     "metadata": {},
     "output_type": "execute_result"
    }
   ],
   "source": [
    "date.head(3)"
   ]
  },
  {
   "cell_type": "code",
   "execution_count": 111,
   "id": "590213b9-659e-4c20-a192-72870418adbc",
   "metadata": {},
   "outputs": [
    {
     "data": {
      "text/plain": [
       "1126"
      ]
     },
     "execution_count": 111,
     "metadata": {},
     "output_type": "execute_result"
    }
   ],
   "source": [
    "date['order_date'].nunique()"
   ]
  },
  {
   "cell_type": "code",
   "execution_count": 112,
   "id": "cfc6b54d-d12d-4b5d-868c-90240709d6f1",
   "metadata": {},
   "outputs": [
    {
     "data": {
      "text/plain": [
       "804"
      ]
     },
     "execution_count": 112,
     "metadata": {},
     "output_type": "execute_result"
    }
   ],
   "source": [
    "transactions4['order_date'].nunique()"
   ]
  },
  {
   "cell_type": "code",
   "execution_count": 113,
   "id": "0aecd13b-2b60-44d0-a244-0482ea0b135a",
   "metadata": {},
   "outputs": [
    {
     "data": {
      "text/plain": [
       "(148672, 17)"
      ]
     },
     "execution_count": 113,
     "metadata": {},
     "output_type": "execute_result"
    }
   ],
   "source": [
    "transactions4.shape"
   ]
  },
  {
   "cell_type": "code",
   "execution_count": 114,
   "id": "86cc484f-020d-458f-84d7-a5ba435a3ff7",
   "metadata": {},
   "outputs": [],
   "source": [
    "transactions5 = pd.merge(transactions4, date, how='inner', on='order_date')"
   ]
  },
  {
   "cell_type": "code",
   "execution_count": 115,
   "id": "8b4b4bbf-0ce4-470f-a303-f84c2f8d06af",
   "metadata": {},
   "outputs": [
    {
     "data": {
      "text/html": [
       "<div>\n",
       "<style scoped>\n",
       "    .dataframe tbody tr th:only-of-type {\n",
       "        vertical-align: middle;\n",
       "    }\n",
       "\n",
       "    .dataframe tbody tr th {\n",
       "        vertical-align: top;\n",
       "    }\n",
       "\n",
       "    .dataframe thead th {\n",
       "        text-align: right;\n",
       "    }\n",
       "</style>\n",
       "<table border=\"1\" class=\"dataframe\">\n",
       "  <thead>\n",
       "    <tr style=\"text-align: right;\">\n",
       "      <th></th>\n",
       "      <th>product_code</th>\n",
       "      <th>customer_code</th>\n",
       "      <th>market_code</th>\n",
       "      <th>order_date</th>\n",
       "      <th>sales_qty</th>\n",
       "      <th>sales_amount</th>\n",
       "      <th>currency</th>\n",
       "      <th>product_price</th>\n",
       "      <th>profit_percentage</th>\n",
       "      <th>original_price</th>\n",
       "      <th>...</th>\n",
       "      <th>total_cost</th>\n",
       "      <th>product_type</th>\n",
       "      <th>custmer_name</th>\n",
       "      <th>customer_type</th>\n",
       "      <th>market_name</th>\n",
       "      <th>zone</th>\n",
       "      <th>cy_date</th>\n",
       "      <th>year</th>\n",
       "      <th>month_name</th>\n",
       "      <th>date_yy_mmm</th>\n",
       "    </tr>\n",
       "  </thead>\n",
       "  <tbody>\n",
       "    <tr>\n",
       "      <th>0</th>\n",
       "      <td>Prod001</td>\n",
       "      <td>Cus001</td>\n",
       "      <td>Mark001</td>\n",
       "      <td>2017-10-10</td>\n",
       "      <td>100</td>\n",
       "      <td>41241.00</td>\n",
       "      <td>INR</td>\n",
       "      <td>412.41</td>\n",
       "      <td>11</td>\n",
       "      <td>367.04</td>\n",
       "      <td>...</td>\n",
       "      <td>36704.49</td>\n",
       "      <td>Own Brand</td>\n",
       "      <td>Surge Stores</td>\n",
       "      <td>Brick &amp; Mortar</td>\n",
       "      <td>Chennai</td>\n",
       "      <td>South</td>\n",
       "      <td>2017-10-01</td>\n",
       "      <td>2017</td>\n",
       "      <td>October</td>\n",
       "      <td>17-Oct</td>\n",
       "    </tr>\n",
       "    <tr>\n",
       "      <th>1</th>\n",
       "      <td>Prod002</td>\n",
       "      <td>Cus003</td>\n",
       "      <td>Mark003</td>\n",
       "      <td>2018-04-06</td>\n",
       "      <td>1</td>\n",
       "      <td>875.00</td>\n",
       "      <td>INR</td>\n",
       "      <td>875.00</td>\n",
       "      <td>13</td>\n",
       "      <td>761.25</td>\n",
       "      <td>...</td>\n",
       "      <td>761.25</td>\n",
       "      <td>Own Brand</td>\n",
       "      <td>Excel Stores</td>\n",
       "      <td>Brick &amp; Mortar</td>\n",
       "      <td>Ahmedabad</td>\n",
       "      <td>North</td>\n",
       "      <td>2018-04-01</td>\n",
       "      <td>2018</td>\n",
       "      <td>April</td>\n",
       "      <td>18-Apr</td>\n",
       "    </tr>\n",
       "    <tr>\n",
       "      <th>2</th>\n",
       "      <td>Prod002</td>\n",
       "      <td>Cus003</td>\n",
       "      <td>Mark003</td>\n",
       "      <td>2018-04-11</td>\n",
       "      <td>1</td>\n",
       "      <td>583.00</td>\n",
       "      <td>INR</td>\n",
       "      <td>583.00</td>\n",
       "      <td>13</td>\n",
       "      <td>507.21</td>\n",
       "      <td>...</td>\n",
       "      <td>507.21</td>\n",
       "      <td>Own Brand</td>\n",
       "      <td>Excel Stores</td>\n",
       "      <td>Brick &amp; Mortar</td>\n",
       "      <td>Ahmedabad</td>\n",
       "      <td>North</td>\n",
       "      <td>2018-04-01</td>\n",
       "      <td>2018</td>\n",
       "      <td>April</td>\n",
       "      <td>18-Apr</td>\n",
       "    </tr>\n",
       "  </tbody>\n",
       "</table>\n",
       "<p>3 rows × 21 columns</p>\n",
       "</div>"
      ],
      "text/plain": [
       "  product_code customer_code market_code  order_date  sales_qty  sales_amount  \\\n",
       "0      Prod001        Cus001     Mark001  2017-10-10        100      41241.00   \n",
       "1      Prod002        Cus003     Mark003  2018-04-06          1        875.00   \n",
       "2      Prod002        Cus003     Mark003  2018-04-11          1        583.00   \n",
       "\n",
       "  currency  product_price  profit_percentage  original_price  ...  total_cost  \\\n",
       "0      INR         412.41                 11          367.04  ...    36704.49   \n",
       "1      INR         875.00                 13          761.25  ...      761.25   \n",
       "2      INR         583.00                 13          507.21  ...      507.21   \n",
       "\n",
       "   product_type  custmer_name   customer_type market_name   zone     cy_date  \\\n",
       "0     Own Brand  Surge Stores  Brick & Mortar     Chennai  South  2017-10-01   \n",
       "1     Own Brand  Excel Stores  Brick & Mortar   Ahmedabad  North  2018-04-01   \n",
       "2     Own Brand  Excel Stores  Brick & Mortar   Ahmedabad  North  2018-04-01   \n",
       "\n",
       "   year  month_name date_yy_mmm  \n",
       "0  2017     October      17-Oct  \n",
       "1  2018       April      18-Apr  \n",
       "2  2018       April      18-Apr  \n",
       "\n",
       "[3 rows x 21 columns]"
      ]
     },
     "execution_count": 115,
     "metadata": {},
     "output_type": "execute_result"
    }
   ],
   "source": [
    "transactions5.head(3)"
   ]
  },
  {
   "cell_type": "code",
   "execution_count": 116,
   "id": "e3b5fd05-ea43-4f77-814d-790d755e6a41",
   "metadata": {},
   "outputs": [
    {
     "data": {
      "text/plain": [
       "(148672, 21)"
      ]
     },
     "execution_count": 116,
     "metadata": {},
     "output_type": "execute_result"
    }
   ],
   "source": [
    "transactions5.shape"
   ]
  },
  {
   "cell_type": "markdown",
   "id": "efc93841-b69f-48c1-95c9-bf8e81a77e9d",
   "metadata": {},
   "source": [
    "# Save the File For Power Bi"
   ]
  },
  {
   "cell_type": "code",
   "execution_count": 117,
   "id": "35dcfaa4-e75e-4d38-a915-f201cc529022",
   "metadata": {},
   "outputs": [],
   "source": [
    "transactions5.to_csv('transactions_all.csv', index=False)"
   ]
  },
  {
   "cell_type": "code",
   "execution_count": 118,
   "id": "090a609b-73c7-4b28-a7bb-5ca301484579",
   "metadata": {},
   "outputs": [
    {
     "data": {
      "text/plain": [
       "Index(['product_code', 'customer_code', 'market_code', 'order_date',\n",
       "       'sales_qty', 'sales_amount', 'currency', 'product_price',\n",
       "       'profit_percentage', 'original_price', 'total_profit', 'total_cost',\n",
       "       'product_type', 'custmer_name', 'customer_type', 'market_name', 'zone',\n",
       "       'cy_date', 'year', 'month_name', 'date_yy_mmm'],\n",
       "      dtype='object')"
      ]
     },
     "execution_count": 118,
     "metadata": {},
     "output_type": "execute_result"
    }
   ],
   "source": [
    "transactions5.columns"
   ]
  },
  {
   "cell_type": "code",
   "execution_count": 119,
   "id": "d9de9852-dc29-4ae4-9b60-4962ed507bef",
   "metadata": {},
   "outputs": [
    {
     "data": {
      "text/plain": [
       "21"
      ]
     },
     "execution_count": 119,
     "metadata": {},
     "output_type": "execute_result"
    }
   ],
   "source": [
    "len(transactions5.columns)"
   ]
  },
  {
   "cell_type": "code",
   "execution_count": 120,
   "id": "1b615d08-c7f1-457b-a439-52bc8b57506d",
   "metadata": {},
   "outputs": [
    {
     "data": {
      "text/plain": [
       "product_code          object\n",
       "customer_code         object\n",
       "market_code           object\n",
       "order_date            object\n",
       "sales_qty              int64\n",
       "sales_amount         float64\n",
       "currency              object\n",
       "product_price        float64\n",
       "profit_percentage      int64\n",
       "original_price       float64\n",
       "total_profit         float64\n",
       "total_cost           float64\n",
       "product_type          object\n",
       "custmer_name          object\n",
       "customer_type         object\n",
       "market_name           object\n",
       "zone                  object\n",
       "cy_date               object\n",
       "year                   int64\n",
       "month_name            object\n",
       "date_yy_mmm           object\n",
       "dtype: object"
      ]
     },
     "execution_count": 120,
     "metadata": {},
     "output_type": "execute_result"
    }
   ],
   "source": [
    "transactions5.dtypes"
   ]
  },
  {
   "cell_type": "markdown",
   "id": "207503e8-fbb1-4ea5-8825-07b9da411a00",
   "metadata": {},
   "source": [
    "# Load The Data"
   ]
  },
  {
   "cell_type": "code",
   "execution_count": 121,
   "id": "107c5d82-e13c-421d-9016-a65bb8bee030",
   "metadata": {},
   "outputs": [],
   "source": [
    "df = pd.read_csv('./transactions_all.csv')"
   ]
  },
  {
   "cell_type": "code",
   "execution_count": 122,
   "id": "d157e12c-817f-4fd1-b25d-46e7b7afc7c9",
   "metadata": {},
   "outputs": [
    {
     "data": {
      "text/html": [
       "<div>\n",
       "<style scoped>\n",
       "    .dataframe tbody tr th:only-of-type {\n",
       "        vertical-align: middle;\n",
       "    }\n",
       "\n",
       "    .dataframe tbody tr th {\n",
       "        vertical-align: top;\n",
       "    }\n",
       "\n",
       "    .dataframe thead th {\n",
       "        text-align: right;\n",
       "    }\n",
       "</style>\n",
       "<table border=\"1\" class=\"dataframe\">\n",
       "  <thead>\n",
       "    <tr style=\"text-align: right;\">\n",
       "      <th></th>\n",
       "      <th>product_code</th>\n",
       "      <th>customer_code</th>\n",
       "      <th>market_code</th>\n",
       "      <th>order_date</th>\n",
       "      <th>sales_qty</th>\n",
       "      <th>sales_amount</th>\n",
       "      <th>currency</th>\n",
       "      <th>product_price</th>\n",
       "      <th>profit_percentage</th>\n",
       "      <th>original_price</th>\n",
       "      <th>...</th>\n",
       "      <th>total_cost</th>\n",
       "      <th>product_type</th>\n",
       "      <th>custmer_name</th>\n",
       "      <th>customer_type</th>\n",
       "      <th>market_name</th>\n",
       "      <th>zone</th>\n",
       "      <th>cy_date</th>\n",
       "      <th>year</th>\n",
       "      <th>month_name</th>\n",
       "      <th>date_yy_mmm</th>\n",
       "    </tr>\n",
       "  </thead>\n",
       "  <tbody>\n",
       "    <tr>\n",
       "      <th>0</th>\n",
       "      <td>Prod001</td>\n",
       "      <td>Cus001</td>\n",
       "      <td>Mark001</td>\n",
       "      <td>2017-10-10</td>\n",
       "      <td>100</td>\n",
       "      <td>41241.00</td>\n",
       "      <td>INR</td>\n",
       "      <td>412.41</td>\n",
       "      <td>11</td>\n",
       "      <td>367.04</td>\n",
       "      <td>...</td>\n",
       "      <td>36704.49</td>\n",
       "      <td>Own Brand</td>\n",
       "      <td>Surge Stores</td>\n",
       "      <td>Brick &amp; Mortar</td>\n",
       "      <td>Chennai</td>\n",
       "      <td>South</td>\n",
       "      <td>2017-10-01</td>\n",
       "      <td>2017</td>\n",
       "      <td>October</td>\n",
       "      <td>17-Oct</td>\n",
       "    </tr>\n",
       "    <tr>\n",
       "      <th>1</th>\n",
       "      <td>Prod002</td>\n",
       "      <td>Cus003</td>\n",
       "      <td>Mark003</td>\n",
       "      <td>2018-04-06</td>\n",
       "      <td>1</td>\n",
       "      <td>875.00</td>\n",
       "      <td>INR</td>\n",
       "      <td>875.00</td>\n",
       "      <td>13</td>\n",
       "      <td>761.25</td>\n",
       "      <td>...</td>\n",
       "      <td>761.25</td>\n",
       "      <td>Own Brand</td>\n",
       "      <td>Excel Stores</td>\n",
       "      <td>Brick &amp; Mortar</td>\n",
       "      <td>Ahmedabad</td>\n",
       "      <td>North</td>\n",
       "      <td>2018-04-01</td>\n",
       "      <td>2018</td>\n",
       "      <td>April</td>\n",
       "      <td>18-Apr</td>\n",
       "    </tr>\n",
       "  </tbody>\n",
       "</table>\n",
       "<p>2 rows × 21 columns</p>\n",
       "</div>"
      ],
      "text/plain": [
       "  product_code customer_code market_code  order_date  sales_qty  sales_amount  \\\n",
       "0      Prod001        Cus001     Mark001  2017-10-10        100      41241.00   \n",
       "1      Prod002        Cus003     Mark003  2018-04-06          1        875.00   \n",
       "\n",
       "  currency  product_price  profit_percentage  original_price  ...  total_cost  \\\n",
       "0      INR         412.41                 11          367.04  ...    36704.49   \n",
       "1      INR         875.00                 13          761.25  ...      761.25   \n",
       "\n",
       "   product_type  custmer_name   customer_type market_name   zone     cy_date  \\\n",
       "0     Own Brand  Surge Stores  Brick & Mortar     Chennai  South  2017-10-01   \n",
       "1     Own Brand  Excel Stores  Brick & Mortar   Ahmedabad  North  2018-04-01   \n",
       "\n",
       "   year  month_name date_yy_mmm  \n",
       "0  2017     October      17-Oct  \n",
       "1  2018       April      18-Apr  \n",
       "\n",
       "[2 rows x 21 columns]"
      ]
     },
     "execution_count": 122,
     "metadata": {},
     "output_type": "execute_result"
    }
   ],
   "source": [
    "df.head(2)"
   ]
  },
  {
   "cell_type": "code",
   "execution_count": 123,
   "id": "e3dfb78b-5024-4f71-9999-f68a282b0811",
   "metadata": {},
   "outputs": [
    {
     "data": {
      "text/plain": [
       "(148672, 21)"
      ]
     },
     "execution_count": 123,
     "metadata": {},
     "output_type": "execute_result"
    }
   ],
   "source": [
    "df.shape"
   ]
  },
  {
   "cell_type": "code",
   "execution_count": 124,
   "id": "f91c997a-0ae4-4a29-87ea-c223801993e0",
   "metadata": {},
   "outputs": [
    {
     "data": {
      "text/plain": [
       "np.float64(986676768.0)"
      ]
     },
     "execution_count": 124,
     "metadata": {},
     "output_type": "execute_result"
    }
   ],
   "source": [
    "df['sales_amount'].sum()"
   ]
  },
  {
   "cell_type": "code",
   "execution_count": 125,
   "id": "e11d5197-6ef1-4413-89d7-4802d65956e6",
   "metadata": {},
   "outputs": [
    {
     "data": {
      "text/plain": [
       "np.float64(849375728.9)"
      ]
     },
     "execution_count": 125,
     "metadata": {},
     "output_type": "execute_result"
    }
   ],
   "source": [
    "df['total_cost'].sum()"
   ]
  },
  {
   "cell_type": "code",
   "execution_count": 126,
   "id": "b5bada7c-73be-4b7b-b9be-4826dab61aa0",
   "metadata": {},
   "outputs": [
    {
     "data": {
      "text/plain": [
       "np.float64(137301039.1)"
      ]
     },
     "execution_count": 126,
     "metadata": {},
     "output_type": "execute_result"
    }
   ],
   "source": [
    "df['total_profit'].sum()"
   ]
  },
  {
   "cell_type": "code",
   "execution_count": 127,
   "id": "18faa373-ab0f-4c18-9ff8-6029c6b55ebf",
   "metadata": {},
   "outputs": [
    {
     "data": {
      "text/plain": [
       "np.float64(0.0)"
      ]
     },
     "execution_count": 127,
     "metadata": {},
     "output_type": "execute_result"
    }
   ],
   "source": [
    "df['sales_amount'].sum() - (df['total_cost'].sum() + df['total_profit'].sum())"
   ]
  },
  {
   "cell_type": "markdown",
   "id": "869c80bf-61e9-4efd-bf8f-4ab250a74872",
   "metadata": {},
   "source": [
    "# Data Visualisation"
   ]
  },
  {
   "cell_type": "code",
   "execution_count": 131,
   "id": "f984c33d-e3eb-4839-a2f3-7a2c15576397",
   "metadata": {},
   "outputs": [
    {
     "data": {
      "text/html": [
       "<div>\n",
       "<style scoped>\n",
       "    .dataframe tbody tr th:only-of-type {\n",
       "        vertical-align: middle;\n",
       "    }\n",
       "\n",
       "    .dataframe tbody tr th {\n",
       "        vertical-align: top;\n",
       "    }\n",
       "\n",
       "    .dataframe thead th {\n",
       "        text-align: right;\n",
       "    }\n",
       "</style>\n",
       "<table border=\"1\" class=\"dataframe\">\n",
       "  <thead>\n",
       "    <tr style=\"text-align: right;\">\n",
       "      <th></th>\n",
       "      <th>sales_qty</th>\n",
       "      <th>sales_amount</th>\n",
       "      <th>product_price</th>\n",
       "      <th>profit_percentage</th>\n",
       "      <th>original_price</th>\n",
       "      <th>total_profit</th>\n",
       "      <th>total_cost</th>\n",
       "      <th>year</th>\n",
       "    </tr>\n",
       "  </thead>\n",
       "  <tbody>\n",
       "    <tr>\n",
       "      <th>sales_qty</th>\n",
       "      <td>1.00</td>\n",
       "      <td>0.34</td>\n",
       "      <td>-0.01</td>\n",
       "      <td>-0.05</td>\n",
       "      <td>-0.02</td>\n",
       "      <td>0.24</td>\n",
       "      <td>0.36</td>\n",
       "      <td>0.00</td>\n",
       "    </tr>\n",
       "    <tr>\n",
       "      <th>sales_amount</th>\n",
       "      <td>0.34</td>\n",
       "      <td>1.00</td>\n",
       "      <td>0.30</td>\n",
       "      <td>0.25</td>\n",
       "      <td>0.30</td>\n",
       "      <td>0.98</td>\n",
       "      <td>1.00</td>\n",
       "      <td>-0.00</td>\n",
       "    </tr>\n",
       "    <tr>\n",
       "      <th>product_price</th>\n",
       "      <td>-0.01</td>\n",
       "      <td>0.30</td>\n",
       "      <td>1.00</td>\n",
       "      <td>0.88</td>\n",
       "      <td>1.00</td>\n",
       "      <td>0.32</td>\n",
       "      <td>0.30</td>\n",
       "      <td>0.01</td>\n",
       "    </tr>\n",
       "    <tr>\n",
       "      <th>profit_percentage</th>\n",
       "      <td>-0.05</td>\n",
       "      <td>0.25</td>\n",
       "      <td>0.88</td>\n",
       "      <td>1.00</td>\n",
       "      <td>0.88</td>\n",
       "      <td>0.27</td>\n",
       "      <td>0.25</td>\n",
       "      <td>0.01</td>\n",
       "    </tr>\n",
       "    <tr>\n",
       "      <th>original_price</th>\n",
       "      <td>-0.02</td>\n",
       "      <td>0.30</td>\n",
       "      <td>1.00</td>\n",
       "      <td>0.88</td>\n",
       "      <td>1.00</td>\n",
       "      <td>0.32</td>\n",
       "      <td>0.29</td>\n",
       "      <td>0.01</td>\n",
       "    </tr>\n",
       "    <tr>\n",
       "      <th>total_profit</th>\n",
       "      <td>0.24</td>\n",
       "      <td>0.98</td>\n",
       "      <td>0.32</td>\n",
       "      <td>0.27</td>\n",
       "      <td>0.32</td>\n",
       "      <td>1.00</td>\n",
       "      <td>0.97</td>\n",
       "      <td>-0.00</td>\n",
       "    </tr>\n",
       "    <tr>\n",
       "      <th>total_cost</th>\n",
       "      <td>0.36</td>\n",
       "      <td>1.00</td>\n",
       "      <td>0.30</td>\n",
       "      <td>0.25</td>\n",
       "      <td>0.29</td>\n",
       "      <td>0.97</td>\n",
       "      <td>1.00</td>\n",
       "      <td>-0.00</td>\n",
       "    </tr>\n",
       "    <tr>\n",
       "      <th>year</th>\n",
       "      <td>0.00</td>\n",
       "      <td>-0.00</td>\n",
       "      <td>0.01</td>\n",
       "      <td>0.01</td>\n",
       "      <td>0.01</td>\n",
       "      <td>-0.00</td>\n",
       "      <td>-0.00</td>\n",
       "      <td>1.00</td>\n",
       "    </tr>\n",
       "  </tbody>\n",
       "</table>\n",
       "</div>"
      ],
      "text/plain": [
       "                   sales_qty  sales_amount  product_price  profit_percentage  \\\n",
       "sales_qty               1.00          0.34          -0.01              -0.05   \n",
       "sales_amount            0.34          1.00           0.30               0.25   \n",
       "product_price          -0.01          0.30           1.00               0.88   \n",
       "profit_percentage      -0.05          0.25           0.88               1.00   \n",
       "original_price         -0.02          0.30           1.00               0.88   \n",
       "total_profit            0.24          0.98           0.32               0.27   \n",
       "total_cost              0.36          1.00           0.30               0.25   \n",
       "year                    0.00         -0.00           0.01               0.01   \n",
       "\n",
       "                   original_price  total_profit  total_cost  year  \n",
       "sales_qty                   -0.02          0.24        0.36  0.00  \n",
       "sales_amount                 0.30          0.98        1.00 -0.00  \n",
       "product_price                1.00          0.32        0.30  0.01  \n",
       "profit_percentage            0.88          0.27        0.25  0.01  \n",
       "original_price               1.00          0.32        0.29  0.01  \n",
       "total_profit                 0.32          1.00        0.97 -0.00  \n",
       "total_cost                   0.29          0.97        1.00 -0.00  \n",
       "year                         0.01         -0.00       -0.00  1.00  "
      ]
     },
     "execution_count": 131,
     "metadata": {},
     "output_type": "execute_result"
    }
   ],
   "source": [
    "df.corr(numeric_only=True)"
   ]
  },
  {
   "cell_type": "code",
   "execution_count": 143,
   "id": "9df25cac-c25d-4dec-8093-a23c80572152",
   "metadata": {},
   "outputs": [
    {
     "data": {
      "image/png": "[encoded data removed]",
      "text/plain": [
       "<Figure size 1000x600 with 2 Axes>"
      ]
     },
     "metadata": {},
     "output_type": "display_data"
    }
   ],
   "source": [
    "import matplotlib.pyplot as plt\n",
    "import seaborn as sns\n",
    "\n",
    "# Set figure size (width=10, height=6 in inches)\n",
    "plt.figure(figsize=(10, 6))\n",
    "\n",
    "# Create heatmap\n",
    "sns.heatmap(df.corr(numeric_only=True), annot=True, cmap=\"coolwarm\", fmt=\".2f\")\n",
    "\n",
    "# Rotate x-axis labels\n",
    "plt.xticks(rotation=45, ha=\"right\")\n",
    "\n",
    "# Rotate y-axis labels\n",
    "plt.yticks(rotation=0)\n",
    "\n",
    "# Show the plot\n",
    "plt.show()"
   ]
  },
  {
   "cell_type": "code",
   "execution_count": null,
   "id": "3691cabb-b74c-4fb4-befd-a169f4092492",
   "metadata": {},
   "outputs": [],
   "source": []
  }
 ],
 "metadata": {
  "kernelspec": {
   "display_name": "Python [conda env:base] *",
   "language": "python",
   "name": "conda-base-py"
  },
  "language_info": {
   "codemirror_mode": {
    "name": "ipython",
    "version": 3
   },
   "file_extension": ".py",
   "mimetype": "text/x-python",
   "name": "python",
   "nbconvert_exporter": "python",
   "pygments_lexer": "ipython3",
   "version": "3.13.5"
  }
 },
 "nbformat": 4,
 "nbformat_minor": 5
}
